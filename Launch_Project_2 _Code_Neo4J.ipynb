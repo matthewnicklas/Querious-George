{
 "cells": [
  {
   "cell_type": "markdown",
   "metadata": {},
   "source": [
    "Project 2 Code for Neo_4J\n",
    "Author: Matthew Nicklas, Serene, Aayushma and Cannon\n",
    "Data comes from self populated csvs with information about ourselves "
   ]
  },
  {
   "cell_type": "code",
   "execution_count": 5,
   "metadata": {
    "scrolled": true
   },
   "outputs": [
    {
     "name": "stdout",
     "output_type": "stream",
     "text": [
      "Requirement already satisfied: py2neo in c:\\users\\mnick\\anaconda3\\lib\\site-packages (2021.1.3)\n",
      "Requirement already satisfied: neotime~=1.7.4 in c:\\users\\mnick\\anaconda3\\lib\\site-packages (from py2neo) (1.7.4)\n",
      "Requirement already satisfied: certifi in c:\\users\\mnick\\anaconda3\\lib\\site-packages (from py2neo) (2020.6.20)\n",
      "Requirement already satisfied: pytz in c:\\users\\mnick\\anaconda3\\lib\\site-packages (from py2neo) (2020.1)\n",
      "Requirement already satisfied: packaging in c:\\users\\mnick\\anaconda3\\lib\\site-packages (from py2neo) (20.4)\n",
      "Requirement already satisfied: prompt-toolkit>=2.0.7; python_version >= \"3.6\" in c:\\users\\mnick\\anaconda3\\lib\\site-packages (from py2neo) (3.0.5)\n",
      "Requirement already satisfied: cryptography in c:\\users\\mnick\\anaconda3\\lib\\site-packages (from py2neo) (2.9.2)\n",
      "Requirement already satisfied: monotonic in c:\\users\\mnick\\anaconda3\\lib\\site-packages (from py2neo) (1.6)\n",
      "Requirement already satisfied: pansi>=2020.7.3 in c:\\users\\mnick\\anaconda3\\lib\\site-packages (from py2neo) (2020.7.3)\n",
      "Requirement already satisfied: urllib3 in c:\\users\\mnick\\anaconda3\\lib\\site-packages (from py2neo) (1.25.9)\n",
      "Requirement already satisfied: pygments>=2.0.0 in c:\\users\\mnick\\anaconda3\\lib\\site-packages (from py2neo) (2.6.1)\n",
      "Requirement already satisfied: six>=1.15.0 in c:\\users\\mnick\\anaconda3\\lib\\site-packages (from py2neo) (1.15.0)\n",
      "Requirement already satisfied: english in c:\\users\\mnick\\anaconda3\\lib\\site-packages (from py2neo) (2020.7.0)\n",
      "Requirement already satisfied: docker in c:\\users\\mnick\\anaconda3\\lib\\site-packages (from py2neo) (5.0.0)\n",
      "Requirement already satisfied: pyparsing>=2.0.2 in c:\\users\\mnick\\anaconda3\\lib\\site-packages (from packaging->py2neo) (2.4.7)\n",
      "Requirement already satisfied: wcwidth in c:\\users\\mnick\\anaconda3\\lib\\site-packages (from prompt-toolkit>=2.0.7; python_version >= \"3.6\"->py2neo) (0.2.5)\n",
      "Requirement already satisfied: cffi!=1.11.3,>=1.8 in c:\\users\\mnick\\anaconda3\\lib\\site-packages (from cryptography->py2neo) (1.14.0)\n",
      "Requirement already satisfied: pywin32==227; sys_platform == \"win32\" in c:\\users\\mnick\\anaconda3\\lib\\site-packages (from docker->py2neo) (227)\n",
      "Requirement already satisfied: websocket-client>=0.32.0 in c:\\users\\mnick\\anaconda3\\lib\\site-packages (from docker->py2neo) (1.0.1)\n",
      "Requirement already satisfied: requests!=2.18.0,>=2.14.2 in c:\\users\\mnick\\anaconda3\\lib\\site-packages (from docker->py2neo) (2.24.0)\n",
      "Requirement already satisfied: pycparser in c:\\users\\mnick\\anaconda3\\lib\\site-packages (from cffi!=1.11.3,>=1.8->cryptography->py2neo) (2.20)\n",
      "Requirement already satisfied: idna<3,>=2.5 in c:\\users\\mnick\\anaconda3\\lib\\site-packages (from requests!=2.18.0,>=2.14.2->docker->py2neo) (2.10)\n",
      "Requirement already satisfied: chardet<4,>=3.0.2 in c:\\users\\mnick\\anaconda3\\lib\\site-packages (from requests!=2.18.0,>=2.14.2->docker->py2neo) (3.0.4)\n"
     ]
    }
   ],
   "source": [
    "!pip install py2neo"
   ]
  },
  {
   "cell_type": "code",
   "execution_count": 2,
   "metadata": {},
   "outputs": [],
   "source": [
    "import py2neo"
   ]
  },
  {
   "cell_type": "code",
   "execution_count": 3,
   "metadata": {},
   "outputs": [],
   "source": [
    "from py2neo import Graph"
   ]
  },
  {
   "cell_type": "code",
   "execution_count": 4,
   "metadata": {},
   "outputs": [],
   "source": [
    "graph = Graph(\"bolt://localhost:7687\", auth=(\"neo4j\", \"password\"))"
   ]
  },
  {
   "cell_type": "code",
   "execution_count": 5,
   "metadata": {},
   "outputs": [
    {
     "data": {
      "text/plain": [
       "py2neo.database.Graph"
      ]
     },
     "execution_count": 5,
     "metadata": {},
     "output_type": "execute_result"
    }
   ],
   "source": [
    "type(graph)"
   ]
  },
  {
   "cell_type": "code",
   "execution_count": 84,
   "metadata": {},
   "outputs": [
    {
     "data": {
      "text/html": [
       "(No data)"
      ],
      "text/plain": [
       "(No data)"
      ]
     },
     "execution_count": 84,
     "metadata": {},
     "output_type": "execute_result"
    }
   ],
   "source": [
    "#Delete all observations \n",
    "graph.run(\"MATCH (n) DETACH DELETE n\")"
   ]
  },
  {
   "cell_type": "code",
   "execution_count": null,
   "metadata": {},
   "outputs": [],
   "source": [
    "#graph.run(\"MATCH (n) RETURN n\")"
   ]
  },
  {
   "cell_type": "code",
   "execution_count": 7,
   "metadata": {},
   "outputs": [],
   "source": [
    "import pandas as pd"
   ]
  },
  {
   "cell_type": "code",
   "execution_count": 73,
   "metadata": {},
   "outputs": [],
   "source": [
    "interests = pd.read_csv('Project_2_Data/interests.csv')"
   ]
  },
  {
   "cell_type": "code",
   "execution_count": 74,
   "metadata": {},
   "outputs": [
    {
     "data": {
      "text/html": [
       "<div>\n",
       "<style scoped>\n",
       "    .dataframe tbody tr th:only-of-type {\n",
       "        vertical-align: middle;\n",
       "    }\n",
       "\n",
       "    .dataframe tbody tr th {\n",
       "        vertical-align: top;\n",
       "    }\n",
       "\n",
       "    .dataframe thead th {\n",
       "        text-align: right;\n",
       "    }\n",
       "</style>\n",
       "<table border=\"1\" class=\"dataframe\">\n",
       "  <thead>\n",
       "    <tr style=\"text-align: right;\">\n",
       "      <th></th>\n",
       "      <th>id</th>\n",
       "      <th>hobbies</th>\n",
       "      <th>location</th>\n",
       "      <th>most_famous_person</th>\n",
       "      <th>skill_level_required</th>\n",
       "      <th>risk_factor</th>\n",
       "      <th>category</th>\n",
       "    </tr>\n",
       "  </thead>\n",
       "  <tbody>\n",
       "    <tr>\n",
       "      <th>0</th>\n",
       "      <td>1</td>\n",
       "      <td>Surfing</td>\n",
       "      <td>Beach</td>\n",
       "      <td>Shaun White</td>\n",
       "      <td>9</td>\n",
       "      <td>9</td>\n",
       "      <td>Sport</td>\n",
       "    </tr>\n",
       "    <tr>\n",
       "      <th>1</th>\n",
       "      <td>2</td>\n",
       "      <td>Frisbee golf</td>\n",
       "      <td>Forest</td>\n",
       "      <td>Paul McBeth</td>\n",
       "      <td>6</td>\n",
       "      <td>4</td>\n",
       "      <td>Sport</td>\n",
       "    </tr>\n",
       "    <tr>\n",
       "      <th>2</th>\n",
       "      <td>3</td>\n",
       "      <td>Board games</td>\n",
       "      <td>Home</td>\n",
       "      <td>Monopoly Man</td>\n",
       "      <td>3</td>\n",
       "      <td>2</td>\n",
       "      <td>Leisure</td>\n",
       "    </tr>\n",
       "    <tr>\n",
       "      <th>3</th>\n",
       "      <td>4</td>\n",
       "      <td>Eating</td>\n",
       "      <td>Anywhere</td>\n",
       "      <td>Guy Fieri</td>\n",
       "      <td>1</td>\n",
       "      <td>8</td>\n",
       "      <td>Leisure</td>\n",
       "    </tr>\n",
       "    <tr>\n",
       "      <th>4</th>\n",
       "      <td>5</td>\n",
       "      <td>Video games</td>\n",
       "      <td>Home</td>\n",
       "      <td>PewDiePie</td>\n",
       "      <td>5</td>\n",
       "      <td>2</td>\n",
       "      <td>Leisure</td>\n",
       "    </tr>\n",
       "  </tbody>\n",
       "</table>\n",
       "</div>"
      ],
      "text/plain": [
       "   id       hobbies  location most_famous_person  skill_level_required  \\\n",
       "0   1       Surfing     Beach        Shaun White                     9   \n",
       "1   2  Frisbee golf    Forest        Paul McBeth                     6   \n",
       "2   3  Board games       Home       Monopoly Man                     3   \n",
       "3   4        Eating  Anywhere          Guy Fieri                     1   \n",
       "4   5   Video games      Home          PewDiePie                     5   \n",
       "\n",
       "   risk_factor category  \n",
       "0            9    Sport  \n",
       "1            4    Sport  \n",
       "2            2  Leisure  \n",
       "3            8  Leisure  \n",
       "4            2  Leisure  "
      ]
     },
     "execution_count": 74,
     "metadata": {},
     "output_type": "execute_result"
    }
   ],
   "source": [
    "interests.head()"
   ]
  },
  {
   "cell_type": "code",
   "execution_count": 10,
   "metadata": {},
   "outputs": [
    {
     "name": "stdout",
     "output_type": "stream",
     "text": [
      "CREATE (:HOBBIES {hobbies:'Surfing',location:'Beach',most_famous_person:'Shaun White',skill_level_required:9,risk_factor:9,category:'Sport'\n",
      "CREATE (:HOBBIES {hobbies:'Frisbee golf',location:'Forest',most_famous_person:'Paul McBeth',skill_level_required:6,risk_factor:4,category:'Sport'\n",
      "CREATE (:HOBBIES {hobbies:'Board games ',location:'Home',most_famous_person:'Monopoly Man',skill_level_required:3,risk_factor:2,category:'Leisure'\n",
      "CREATE (:HOBBIES {hobbies:'Eating',location:'Anywhere',most_famous_person:'Guy Fieri',skill_level_required:1,risk_factor:8,category:'Leisure'\n",
      "CREATE (:HOBBIES {hobbies:'Video games',location:'Home',most_famous_person:'PewDiePie',skill_level_required:5,risk_factor:2,category:'Leisure'\n",
      "CREATE (:HOBBIES {hobbies:'Reading',location:'Home',most_famous_person:'Morgan Freeman',skill_level_required:2,risk_factor:1,category:'Leisure'\n",
      "CREATE (:HOBBIES {hobbies:'Playing guitar',location:'Home',most_famous_person:'Jimi Hendrix',skill_level_required:6,risk_factor:2,category:'Art'\n",
      "CREATE (:HOBBIES {hobbies:'Skating',location:'Skate Park',most_famous_person:'Tony Hawk',skill_level_required:8,risk_factor:9,category:'Sport'\n",
      "CREATE (:HOBBIES {hobbies:'Singing',location:'Home',most_famous_person:'Beyonce',skill_level_required:6,risk_factor:1,category:'Art'\n",
      "CREATE (:HOBBIES {hobbies:'Tennis',location:'Tennis Court',most_famous_person:'Roger Federer',skill_level_required:7,risk_factor:5,category:'Sport'\n",
      "CREATE (:HOBBIES {hobbies:'Sleeping',location:'Home',most_famous_person:'Snorlax',skill_level_required:2,risk_factor:1,category:'Leisure'\n"
     ]
    }
   ],
   "source": [
    "for i in range(len(interests)):\n",
    "    row = interests.iloc[i]\n",
    "    print(\"CREATE (:HOBBIES {hobbies:'\" + row['hobbies'] + \"',location:'\" + row['location'] + \"',most_famous_person:'\" + \n",
    "          row['most_famous_person']+ \"',skill_level_required:\" + str(row['skill_level_required']) +\n",
    "         \",risk_factor:\" + str(row['risk_factor']) + \",category:'\" + row['category']+ \"'\")"
   ]
  },
  {
   "cell_type": "code",
   "execution_count": 85,
   "metadata": {},
   "outputs": [],
   "source": [
    "for i in range(len(interests)):\n",
    "    row = interests.iloc[i]\n",
    "    graph.run(\"CREATE (:Interests {hobbies:'\" + row['hobbies'] + \"',location:'\" + row['location'] + \"',most_famous_person:'\" + \n",
    "          row['most_famous_person']+ \"',skill_level_required:\" + str(row['skill_level_required']) +\n",
    "         \",risk_factor:\" + str(row['risk_factor']) + \",category:'\" + row['category']+ \"'})\")"
   ]
  },
  {
   "cell_type": "code",
   "execution_count": 75,
   "metadata": {},
   "outputs": [],
   "source": [
    "#Add the dataframe for the artists same way we did interests \n",
    "artists = pd.read_csv('Project_2_Data/artists.csv')"
   ]
  },
  {
   "cell_type": "code",
   "execution_count": 76,
   "metadata": {},
   "outputs": [
    {
     "data": {
      "text/html": [
       "<div>\n",
       "<style scoped>\n",
       "    .dataframe tbody tr th:only-of-type {\n",
       "        vertical-align: middle;\n",
       "    }\n",
       "\n",
       "    .dataframe tbody tr th {\n",
       "        vertical-align: top;\n",
       "    }\n",
       "\n",
       "    .dataframe thead th {\n",
       "        text-align: right;\n",
       "    }\n",
       "</style>\n",
       "<table border=\"1\" class=\"dataframe\">\n",
       "  <thead>\n",
       "    <tr style=\"text-align: right;\">\n",
       "      <th></th>\n",
       "      <th>id</th>\n",
       "      <th>name</th>\n",
       "      <th>monthly_listens</th>\n",
       "      <th>hometown_id</th>\n",
       "      <th>age</th>\n",
       "      <th>net_worth</th>\n",
       "      <th>most_popular_song</th>\n",
       "      <th>interest_id</th>\n",
       "    </tr>\n",
       "  </thead>\n",
       "  <tbody>\n",
       "    <tr>\n",
       "      <th>0</th>\n",
       "      <td>1</td>\n",
       "      <td>Taylor Swift</td>\n",
       "      <td>42961049</td>\n",
       "      <td>Reading</td>\n",
       "      <td>31</td>\n",
       "      <td>400,000,000</td>\n",
       "      <td>Shake It Off</td>\n",
       "      <td>Playing guitar</td>\n",
       "    </tr>\n",
       "    <tr>\n",
       "      <th>1</th>\n",
       "      <td>2</td>\n",
       "      <td>HAIM</td>\n",
       "      <td>5493993</td>\n",
       "      <td>Los Angeles</td>\n",
       "      <td>35</td>\n",
       "      <td>5,000,000</td>\n",
       "      <td>The Wire</td>\n",
       "      <td>Playing guitar</td>\n",
       "    </tr>\n",
       "    <tr>\n",
       "      <th>2</th>\n",
       "      <td>3</td>\n",
       "      <td>Amy Winehouse</td>\n",
       "      <td>11016435</td>\n",
       "      <td>London</td>\n",
       "      <td>27</td>\n",
       "      <td>5,000,000</td>\n",
       "      <td>Back to Black</td>\n",
       "      <td>Playing guitar</td>\n",
       "    </tr>\n",
       "    <tr>\n",
       "      <th>3</th>\n",
       "      <td>4</td>\n",
       "      <td>Florence + the Machine</td>\n",
       "      <td>10407322</td>\n",
       "      <td>London</td>\n",
       "      <td>34</td>\n",
       "      <td>28,000,000</td>\n",
       "      <td>Dog Days are Over</td>\n",
       "      <td>Reading</td>\n",
       "    </tr>\n",
       "    <tr>\n",
       "      <th>4</th>\n",
       "      <td>5</td>\n",
       "      <td>Chase Atlantic</td>\n",
       "      <td>6279620</td>\n",
       "      <td>Cairns</td>\n",
       "      <td>24</td>\n",
       "      <td>7,300,000</td>\n",
       "      <td>Friends</td>\n",
       "      <td>Skating</td>\n",
       "    </tr>\n",
       "  </tbody>\n",
       "</table>\n",
       "</div>"
      ],
      "text/plain": [
       "   id                    name  monthly_listens  hometown_id  age    net_worth  \\\n",
       "0   1            Taylor Swift         42961049      Reading   31  400,000,000   \n",
       "1   2                    HAIM          5493993  Los Angeles   35    5,000,000   \n",
       "2   3           Amy Winehouse         11016435       London   27    5,000,000   \n",
       "3   4  Florence + the Machine         10407322       London   34   28,000,000   \n",
       "4   5          Chase Atlantic          6279620       Cairns   24    7,300,000   \n",
       "\n",
       "   most_popular_song     interest_id  \n",
       "0       Shake It Off  Playing guitar  \n",
       "1           The Wire  Playing guitar  \n",
       "2      Back to Black  Playing guitar  \n",
       "3  Dog Days are Over         Reading  \n",
       "4            Friends         Skating  "
      ]
     },
     "execution_count": 76,
     "metadata": {},
     "output_type": "execute_result"
    }
   ],
   "source": [
    "artists.head()"
   ]
  },
  {
   "cell_type": "code",
   "execution_count": 77,
   "metadata": {},
   "outputs": [],
   "source": [
    "from py2neo import Node\n",
    "from py2neo import Relationship "
   ]
  },
  {
   "cell_type": "code",
   "execution_count": 60,
   "metadata": {},
   "outputs": [
    {
     "data": {
      "text/html": [
       "(No data)"
      ],
      "text/plain": [
       "(No data)"
      ]
     },
     "execution_count": 60,
     "metadata": {},
     "output_type": "execute_result"
    }
   ],
   "source": [
    "#Delete all observations \n",
    "graph.run(\"MATCH (n) DETACH DELETE n\")"
   ]
  },
  {
   "cell_type": "code",
   "execution_count": 86,
   "metadata": {},
   "outputs": [],
   "source": [
    "#Adding in the nodes for artists\n",
    "for i in range(len(artists)):\n",
    "    row = artists.iloc[i]\n",
    "    artist = Node(\"Artist\", name = row['name'], monthly_listens=str(row['monthly_listens']), \n",
    "                  hometown_id = row['hometown_id'], age = str(row['age']), net_worth = str(row['net_worth']), \n",
    "                  most_popular_song = row['most_popular_song'], interest_id = row['interest_id'])\n",
    "    graph.create(artist)"
   ]
  },
  {
   "cell_type": "code",
   "execution_count": 66,
   "metadata": {},
   "outputs": [],
   "source": [
    "#Read in the rest of the csv files as new dataframes \n",
    "music = pd.read_csv('Project_2_Data/music.csv')\n",
    "majors = pd.read_csv('Project_2_Data/majors.csv')\n",
    "people = pd.read_csv('Project_2_Data/people.csv')\n",
    "towns = pd.read_csv('Project_2_Data/towns.csv')"
   ]
  },
  {
   "cell_type": "code",
   "execution_count": 78,
   "metadata": {},
   "outputs": [
    {
     "data": {
      "text/html": [
       "<div>\n",
       "<style scoped>\n",
       "    .dataframe tbody tr th:only-of-type {\n",
       "        vertical-align: middle;\n",
       "    }\n",
       "\n",
       "    .dataframe tbody tr th {\n",
       "        vertical-align: top;\n",
       "    }\n",
       "\n",
       "    .dataframe thead th {\n",
       "        text-align: right;\n",
       "    }\n",
       "</style>\n",
       "<table border=\"1\" class=\"dataframe\">\n",
       "  <thead>\n",
       "    <tr style=\"text-align: right;\">\n",
       "      <th></th>\n",
       "      <th>id</th>\n",
       "      <th>song</th>\n",
       "      <th>artist_name</th>\n",
       "      <th>album</th>\n",
       "      <th>genre</th>\n",
       "      <th>release_year</th>\n",
       "    </tr>\n",
       "  </thead>\n",
       "  <tbody>\n",
       "    <tr>\n",
       "      <th>0</th>\n",
       "      <td>1</td>\n",
       "      <td>Shake It Off</td>\n",
       "      <td>Taylor Swift</td>\n",
       "      <td>1989</td>\n",
       "      <td>Pop</td>\n",
       "      <td>2014</td>\n",
       "    </tr>\n",
       "    <tr>\n",
       "      <th>1</th>\n",
       "      <td>2</td>\n",
       "      <td>The Wire</td>\n",
       "      <td>HAIM</td>\n",
       "      <td>Days Are Gone</td>\n",
       "      <td>Rock</td>\n",
       "      <td>2013</td>\n",
       "    </tr>\n",
       "    <tr>\n",
       "      <th>2</th>\n",
       "      <td>3</td>\n",
       "      <td>Back to Black</td>\n",
       "      <td>Amy Winehouse</td>\n",
       "      <td>Back to Black</td>\n",
       "      <td>R&amp;B/Soul</td>\n",
       "      <td>2006</td>\n",
       "    </tr>\n",
       "    <tr>\n",
       "      <th>3</th>\n",
       "      <td>4</td>\n",
       "      <td>Dog Days are Over</td>\n",
       "      <td>Florence and the Machine</td>\n",
       "      <td>Lungs</td>\n",
       "      <td>Alternative</td>\n",
       "      <td>2009</td>\n",
       "    </tr>\n",
       "    <tr>\n",
       "      <th>4</th>\n",
       "      <td>5</td>\n",
       "      <td>Friends</td>\n",
       "      <td>Chase Atlantic</td>\n",
       "      <td>Nostalgia</td>\n",
       "      <td>Rock</td>\n",
       "      <td>2015</td>\n",
       "    </tr>\n",
       "  </tbody>\n",
       "</table>\n",
       "</div>"
      ],
      "text/plain": [
       "   id               song               artist_name          album  \\\n",
       "0   1       Shake It Off              Taylor Swift           1989   \n",
       "1   2           The Wire                     HAIM   Days Are Gone   \n",
       "2   3      Back to Black             Amy Winehouse  Back to Black   \n",
       "3   4  Dog Days are Over  Florence and the Machine          Lungs   \n",
       "4   5            Friends            Chase Atlantic      Nostalgia   \n",
       "\n",
       "         genre  release_year  \n",
       "0          Pop          2014  \n",
       "1         Rock          2013  \n",
       "2     R&B/Soul          2006  \n",
       "3  Alternative          2009  \n",
       "4         Rock          2015  "
      ]
     },
     "execution_count": 78,
     "metadata": {},
     "output_type": "execute_result"
    }
   ],
   "source": [
    "music.head()"
   ]
  },
  {
   "cell_type": "code",
   "execution_count": 87,
   "metadata": {},
   "outputs": [],
   "source": [
    "#Adding in the nodes for music\n",
    "for i in range(len(music)):\n",
    "    row = music.iloc[i]\n",
    "    songs = Node(\"Song\", song = row['song'], artist_name=row['artist_name'], \n",
    "                  album = str(row['album']), genre = row['genre'], release_year = str(row['release_year']))\n",
    "    songs.__primarylabel__ = \"Song\"\n",
    "    songs.__primarykey__ = \"song\"\n",
    "    graph.create(songs)"
   ]
  },
  {
   "cell_type": "code",
   "execution_count": 62,
   "metadata": {},
   "outputs": [
    {
     "data": {
      "text/html": [
       "<div>\n",
       "<style scoped>\n",
       "    .dataframe tbody tr th:only-of-type {\n",
       "        vertical-align: middle;\n",
       "    }\n",
       "\n",
       "    .dataframe tbody tr th {\n",
       "        vertical-align: top;\n",
       "    }\n",
       "\n",
       "    .dataframe thead th {\n",
       "        text-align: right;\n",
       "    }\n",
       "</style>\n",
       "<table border=\"1\" class=\"dataframe\">\n",
       "  <thead>\n",
       "    <tr style=\"text-align: right;\">\n",
       "      <th></th>\n",
       "      <th>id</th>\n",
       "      <th>major</th>\n",
       "      <th>number_of_classes</th>\n",
       "      <th>school</th>\n",
       "      <th>credits</th>\n",
       "      <th>avg_start_salary</th>\n",
       "      <th>application_based</th>\n",
       "      <th>graduation_honors_gpa</th>\n",
       "    </tr>\n",
       "  </thead>\n",
       "  <tbody>\n",
       "    <tr>\n",
       "      <th>0</th>\n",
       "      <td>1</td>\n",
       "      <td>Mechanical Engineering</td>\n",
       "      <td>40</td>\n",
       "      <td>Engineering</td>\n",
       "      <td>115</td>\n",
       "      <td>60,000</td>\n",
       "      <td>False</td>\n",
       "      <td>3.4</td>\n",
       "    </tr>\n",
       "    <tr>\n",
       "      <th>1</th>\n",
       "      <td>2</td>\n",
       "      <td>Computer Science (BA)</td>\n",
       "      <td>38</td>\n",
       "      <td>Arts and Sciences</td>\n",
       "      <td>112</td>\n",
       "      <td>68,600</td>\n",
       "      <td>False</td>\n",
       "      <td>3.6</td>\n",
       "    </tr>\n",
       "    <tr>\n",
       "      <th>2</th>\n",
       "      <td>3</td>\n",
       "      <td>Computer Science (BS)</td>\n",
       "      <td>38</td>\n",
       "      <td>Engineering</td>\n",
       "      <td>112</td>\n",
       "      <td>68,600</td>\n",
       "      <td>False</td>\n",
       "      <td>3.4</td>\n",
       "    </tr>\n",
       "    <tr>\n",
       "      <th>3</th>\n",
       "      <td>4</td>\n",
       "      <td>Commerce</td>\n",
       "      <td>36</td>\n",
       "      <td>McIntire</td>\n",
       "      <td>108</td>\n",
       "      <td>62,905</td>\n",
       "      <td>True</td>\n",
       "      <td>3.8</td>\n",
       "    </tr>\n",
       "    <tr>\n",
       "      <th>4</th>\n",
       "      <td>5</td>\n",
       "      <td>Public Policy and Leadership</td>\n",
       "      <td>37</td>\n",
       "      <td>Batten</td>\n",
       "      <td>110</td>\n",
       "      <td>49,380</td>\n",
       "      <td>True</td>\n",
       "      <td>3.4</td>\n",
       "    </tr>\n",
       "  </tbody>\n",
       "</table>\n",
       "</div>"
      ],
      "text/plain": [
       "   id                         major  number_of_classes             school  \\\n",
       "0   1        Mechanical Engineering                 40        Engineering   \n",
       "1   2         Computer Science (BA)                 38  Arts and Sciences   \n",
       "2   3         Computer Science (BS)                 38        Engineering   \n",
       "3   4                      Commerce                 36           McIntire   \n",
       "4   5  Public Policy and Leadership                 37             Batten   \n",
       "\n",
       "   credits avg_start_salary  application_based  graduation_honors_gpa  \n",
       "0      115           60,000              False                    3.4  \n",
       "1      112           68,600              False                    3.6  \n",
       "2      112           68,600              False                    3.4  \n",
       "3      108           62,905               True                    3.8  \n",
       "4      110           49,380               True                    3.4  "
      ]
     },
     "execution_count": 62,
     "metadata": {},
     "output_type": "execute_result"
    }
   ],
   "source": [
    "majors.head()"
   ]
  },
  {
   "cell_type": "code",
   "execution_count": 88,
   "metadata": {},
   "outputs": [],
   "source": [
    "#Adding in the nodes for major\n",
    "for i in range(len(majors)):\n",
    "    row = majors.iloc[i]\n",
    "    major = Node(\"Major\", major = row['major'], number_of_classes=str(row['number_of_classes']), \n",
    "                  school = row['school'], credits = str(row['credits']), avg_start_salary = str(row['avg_start_salary']),\n",
    "                application_based = str(row['application_based']), graduation_honors_gpa = str(row['graduation_honors_gpa']))\n",
    "    graph.create(major)"
   ]
  },
  {
   "cell_type": "code",
   "execution_count": 66,
   "metadata": {},
   "outputs": [
    {
     "data": {
      "text/html": [
       "<div>\n",
       "<style scoped>\n",
       "    .dataframe tbody tr th:only-of-type {\n",
       "        vertical-align: middle;\n",
       "    }\n",
       "\n",
       "    .dataframe tbody tr th {\n",
       "        vertical-align: top;\n",
       "    }\n",
       "\n",
       "    .dataframe thead th {\n",
       "        text-align: right;\n",
       "    }\n",
       "</style>\n",
       "<table border=\"1\" class=\"dataframe\">\n",
       "  <thead>\n",
       "    <tr style=\"text-align: right;\">\n",
       "      <th></th>\n",
       "      <th>id</th>\n",
       "      <th>town</th>\n",
       "      <th>county</th>\n",
       "      <th>state</th>\n",
       "      <th>country</th>\n",
       "      <th>population</th>\n",
       "      <th>zipcode</th>\n",
       "      <th>area_code</th>\n",
       "    </tr>\n",
       "  </thead>\n",
       "  <tbody>\n",
       "    <tr>\n",
       "      <th>0</th>\n",
       "      <td>1</td>\n",
       "      <td>Philadelphia</td>\n",
       "      <td>Philadelphia</td>\n",
       "      <td>Pennsylvania</td>\n",
       "      <td>USA</td>\n",
       "      <td>1579000</td>\n",
       "      <td>19019</td>\n",
       "      <td>215</td>\n",
       "    </tr>\n",
       "    <tr>\n",
       "      <th>1</th>\n",
       "      <td>2</td>\n",
       "      <td>Springfield</td>\n",
       "      <td>Fairfax</td>\n",
       "      <td>Virginia</td>\n",
       "      <td>USA</td>\n",
       "      <td>32222</td>\n",
       "      <td>22153</td>\n",
       "      <td>703</td>\n",
       "    </tr>\n",
       "    <tr>\n",
       "      <th>2</th>\n",
       "      <td>3</td>\n",
       "      <td>Reading</td>\n",
       "      <td>Berks</td>\n",
       "      <td>Pennsylvania</td>\n",
       "      <td>USA</td>\n",
       "      <td>88232</td>\n",
       "      <td>19601</td>\n",
       "      <td>671</td>\n",
       "    </tr>\n",
       "    <tr>\n",
       "      <th>3</th>\n",
       "      <td>4</td>\n",
       "      <td>Burke</td>\n",
       "      <td>Fairfax</td>\n",
       "      <td>Virginia</td>\n",
       "      <td>USA</td>\n",
       "      <td>41055</td>\n",
       "      <td>22015</td>\n",
       "      <td>703</td>\n",
       "    </tr>\n",
       "    <tr>\n",
       "      <th>4</th>\n",
       "      <td>5</td>\n",
       "      <td>Mt Olympus</td>\n",
       "      <td>NaN</td>\n",
       "      <td>NaN</td>\n",
       "      <td>Greece</td>\n",
       "      <td>7103</td>\n",
       "      <td>84109</td>\n",
       "      <td>344</td>\n",
       "    </tr>\n",
       "  </tbody>\n",
       "</table>\n",
       "</div>"
      ],
      "text/plain": [
       "   id          town        county         state country population  zipcode  \\\n",
       "0   1  Philadelphia  Philadelphia  Pennsylvania     USA    1579000    19019   \n",
       "1   2   Springfield       Fairfax      Virginia     USA      32222    22153   \n",
       "2   3       Reading         Berks  Pennsylvania     USA      88232    19601   \n",
       "3   4         Burke       Fairfax      Virginia     USA      41055    22015   \n",
       "4   5    Mt Olympus           NaN           NaN  Greece       7103    84109   \n",
       "\n",
       "   area_code  \n",
       "0        215  \n",
       "1        703  \n",
       "2        671  \n",
       "3        703  \n",
       "4        344  "
      ]
     },
     "execution_count": 66,
     "metadata": {},
     "output_type": "execute_result"
    }
   ],
   "source": [
    "towns.head()"
   ]
  },
  {
   "cell_type": "code",
   "execution_count": 89,
   "metadata": {},
   "outputs": [],
   "source": [
    "for i in range(len(towns)):\n",
    "    row = towns.iloc[i]\n",
    "    town = Node(\"Town\", town = row['town'], county=row['county'], state = row['state'], country = row['country'], \n",
    "                population = str(row['population']), zipcode = str(row['zipcode']), area_code = str(row['area_code']))\n",
    "    graph.create(town)"
   ]
  },
  {
   "cell_type": "code",
   "execution_count": 88,
   "metadata": {},
   "outputs": [
    {
     "data": {
      "text/html": [
       "<div>\n",
       "<style scoped>\n",
       "    .dataframe tbody tr th:only-of-type {\n",
       "        vertical-align: middle;\n",
       "    }\n",
       "\n",
       "    .dataframe tbody tr th {\n",
       "        vertical-align: top;\n",
       "    }\n",
       "\n",
       "    .dataframe thead th {\n",
       "        text-align: right;\n",
       "    }\n",
       "</style>\n",
       "<table border=\"1\" class=\"dataframe\">\n",
       "  <thead>\n",
       "    <tr style=\"text-align: right;\">\n",
       "      <th></th>\n",
       "      <th>id</th>\n",
       "      <th>first_name</th>\n",
       "      <th>last_name</th>\n",
       "      <th>graduation_year</th>\n",
       "      <th>age</th>\n",
       "      <th>number_of_family_members</th>\n",
       "      <th>fav_color</th>\n",
       "      <th>fav_animal</th>\n",
       "      <th>fav_tv_show</th>\n",
       "      <th>fav_movie</th>\n",
       "      <th>beach_or_mtns</th>\n",
       "      <th>fav_icecream</th>\n",
       "      <th>hometown_id</th>\n",
       "      <th>major</th>\n",
       "      <th>second_major</th>\n",
       "      <th>minor</th>\n",
       "      <th>favorite_hobby_id</th>\n",
       "      <th>second_favorite_hobby_id</th>\n",
       "      <th>fav_artist_id</th>\n",
       "    </tr>\n",
       "  </thead>\n",
       "  <tbody>\n",
       "    <tr>\n",
       "      <th>0</th>\n",
       "      <td>1</td>\n",
       "      <td>Matt</td>\n",
       "      <td>Nicklas</td>\n",
       "      <td>2018</td>\n",
       "      <td>25</td>\n",
       "      <td>3</td>\n",
       "      <td>blue</td>\n",
       "      <td>shark</td>\n",
       "      <td>Dexter</td>\n",
       "      <td>Dark Knight</td>\n",
       "      <td>beach</td>\n",
       "      <td>cookie dough</td>\n",
       "      <td>Springfield</td>\n",
       "      <td>Mechanical Engineering</td>\n",
       "      <td>NaN</td>\n",
       "      <td>Environmental Engineering</td>\n",
       "      <td>Board games</td>\n",
       "      <td>Frisbee golf</td>\n",
       "      <td>Coldplay</td>\n",
       "    </tr>\n",
       "    <tr>\n",
       "      <th>1</th>\n",
       "      <td>2</td>\n",
       "      <td>Cannon</td>\n",
       "      <td>Johns</td>\n",
       "      <td>2024</td>\n",
       "      <td>18</td>\n",
       "      <td>3</td>\n",
       "      <td>blue</td>\n",
       "      <td>giraffe</td>\n",
       "      <td>Arrested Development</td>\n",
       "      <td>Star Wars</td>\n",
       "      <td>beach</td>\n",
       "      <td>salted caramel</td>\n",
       "      <td>Philadelphia</td>\n",
       "      <td>Computer Science (BA)</td>\n",
       "      <td>Commerce</td>\n",
       "      <td>NaN</td>\n",
       "      <td>Surfing</td>\n",
       "      <td>Skating</td>\n",
       "      <td>Hippo Campus</td>\n",
       "    </tr>\n",
       "    <tr>\n",
       "      <th>2</th>\n",
       "      <td>3</td>\n",
       "      <td>Serene</td>\n",
       "      <td>Lu</td>\n",
       "      <td>2024</td>\n",
       "      <td>19</td>\n",
       "      <td>5</td>\n",
       "      <td>blue</td>\n",
       "      <td>bunny</td>\n",
       "      <td>New Girl</td>\n",
       "      <td>Inception</td>\n",
       "      <td>beach</td>\n",
       "      <td>cookies n' cream</td>\n",
       "      <td>Burke</td>\n",
       "      <td>Computer Science (BA)</td>\n",
       "      <td>Statistics</td>\n",
       "      <td>NaN</td>\n",
       "      <td>Playing guitar</td>\n",
       "      <td>Sleeping</td>\n",
       "      <td>Giveon</td>\n",
       "    </tr>\n",
       "    <tr>\n",
       "      <th>3</th>\n",
       "      <td>4</td>\n",
       "      <td>Aayushma</td>\n",
       "      <td>Bastola</td>\n",
       "      <td>2023</td>\n",
       "      <td>20</td>\n",
       "      <td>3</td>\n",
       "      <td>green</td>\n",
       "      <td>elephant</td>\n",
       "      <td>Fleabag</td>\n",
       "      <td>Get Out</td>\n",
       "      <td>mountains</td>\n",
       "      <td>coffee</td>\n",
       "      <td>Fairfax</td>\n",
       "      <td>Commerce</td>\n",
       "      <td>Public Policy and Leadership</td>\n",
       "      <td>NaN</td>\n",
       "      <td>Singing</td>\n",
       "      <td>Eating</td>\n",
       "      <td>Taylor Swift</td>\n",
       "    </tr>\n",
       "  </tbody>\n",
       "</table>\n",
       "</div>"
      ],
      "text/plain": [
       "   id first_name last_name  graduation_year  age  number_of_family_members  \\\n",
       "0   1       Matt   Nicklas             2018   25                         3   \n",
       "1   2     Cannon     Johns             2024   18                         3   \n",
       "2   3     Serene        Lu             2024   19                         5   \n",
       "3   4   Aayushma   Bastola             2023   20                         3   \n",
       "\n",
       "  fav_color fav_animal           fav_tv_show    fav_movie beach_or_mtns  \\\n",
       "0      blue      shark                Dexter  Dark Knight         beach   \n",
       "1      blue    giraffe  Arrested Development    Star Wars         beach   \n",
       "2      blue      bunny              New Girl    Inception         beach   \n",
       "3     green   elephant               Fleabag      Get Out     mountains   \n",
       "\n",
       "       fav_icecream   hometown_id                   major  \\\n",
       "0      cookie dough   Springfield  Mechanical Engineering   \n",
       "1    salted caramel  Philadelphia   Computer Science (BA)   \n",
       "2  cookies n' cream         Burke   Computer Science (BA)   \n",
       "3            coffee       Fairfax                Commerce   \n",
       "\n",
       "                   second_major                      minor favorite_hobby_id  \\\n",
       "0                           NaN  Environmental Engineering       Board games   \n",
       "1                      Commerce                        NaN           Surfing   \n",
       "2                    Statistics                        NaN    Playing guitar   \n",
       "3  Public Policy and Leadership                        NaN           Singing   \n",
       "\n",
       "  second_favorite_hobby_id fav_artist_id  \n",
       "0             Frisbee golf      Coldplay  \n",
       "1                  Skating  Hippo Campus  \n",
       "2                 Sleeping        Giveon  \n",
       "3                   Eating  Taylor Swift  "
      ]
     },
     "execution_count": 88,
     "metadata": {},
     "output_type": "execute_result"
    }
   ],
   "source": [
    "people.head()"
   ]
  },
  {
   "cell_type": "code",
   "execution_count": 65,
   "metadata": {},
   "outputs": [
    {
     "data": {
      "text/plain": [
       "0    Board games\n",
       "Name: favorite_hobby_id, dtype: object"
      ]
     },
     "execution_count": 65,
     "metadata": {},
     "output_type": "execute_result"
    }
   ],
   "source": [
    "people[people.first_name=='Matt'].favorite_hobby_id"
   ]
  },
  {
   "cell_type": "code",
   "execution_count": 90,
   "metadata": {},
   "outputs": [],
   "source": [
    "#Adding in the nodes for Person or each of us \n",
    "for i in range(len(people)):\n",
    "    row = people.iloc[i]\n",
    "    person = Node(\"Person\", first_name = row['first_name'], last_name = row['last_name'], \n",
    "                  graduation_year = str(row['graduation_year']), age = str(row['age']), \n",
    "                  number_of_family_members = str(row['number_of_family_members']), fav_color = row['fav_color'],\n",
    "                  fav_animal = row['fav_animal'], fav_tv_show = row['fav_tv_show'], fav_movie = row['fav_movie'], \n",
    "                  beach_or_mtns = row['beach_or_mtns'], fav_icecream = row['fav_icecream'], hometown_id = row['hometown_id'],\n",
    "                  major = row['major'], second_major = row['second_major'], minor = row['minor'], \n",
    "                  favorite_hobby_id = row['favorite_hobby_id'], second_favorite_hobby_id = row['second_favorite_hobby_id'],\n",
    "                  fav_artist_id = row['fav_artist_id'])\n",
    "    graph.create(person)"
   ]
  },
  {
   "cell_type": "code",
   "execution_count": 91,
   "metadata": {},
   "outputs": [
    {
     "data": {
      "text/html": [
       "(No data)"
      ],
      "text/plain": [
       "(No data)"
      ]
     },
     "execution_count": 91,
     "metadata": {},
     "output_type": "execute_result"
    }
   ],
   "source": [
    "#Define the connections between the different tables!!!!! Need to make sure this is right????????\n",
    "#Looks like you need to have matching column names to make it possible?? which seems wrong to me so I need to research\n",
    "graph.run(\"MATCH (n:Person), (m:Major) WHERE n.major = m.major CREATE (n)-[:MAJORED_IN{Credits:m.credits}]->(m)\")"
   ]
  },
  {
   "cell_type": "code",
   "execution_count": 92,
   "metadata": {},
   "outputs": [
    {
     "data": {
      "text/html": [
       "(No data)"
      ],
      "text/plain": [
       "(No data)"
      ]
     },
     "execution_count": 92,
     "metadata": {},
     "output_type": "execute_result"
    }
   ],
   "source": [
    "#Connect the second major to each person!!!!!\n",
    "graph.run(\"MATCH (n:Person), (m:Major) WHERE n.second_major = m.major CREATE (n)-[:MAJORED_IN{Credits:m.credits}]->(m)\")\n",
    "\n",
    "#Connect nodes to properties this is for hometown\n",
    "graph.run(\"MATCH (n:Person), (m:Town) WHERE n.hometown_id = m.town CREATE (n)-[:HOMETOWN_IS]->(m)\")\n",
    "\n",
    "#Connect nodes of people to hobbies\n",
    "graph.run(\"MATCH (n:Person), (m:Interests) WHERE n.favorite_hobby_id = m.hobbies CREATE (n)-[:FAVORITE_HOBBY_IS{RiskFactor:m.risk_factor}]->(m)\")\n",
    "\n",
    "#Connect nodes of people to second favorite hobby \n",
    "graph.run(\"MATCH (n:Person), (m:Interests) WHERE n.second_favorite_hobby_id = m.hobbies CREATE (n)-[:SECOND_FAVORITE_HOBBY_IS{RiskFactor:m.risk_factor}]->(m)\")\n",
    "\n",
    "#Connect nodes of people to favorite artist \n",
    "graph.run(\"MATCH (n:Person), (m:Artist) WHERE n.fav_artist_id = m.name CREATE (n)-[:FAVORITE_ARTIST_IS]->(m)\")"
   ]
  },
  {
   "cell_type": "code",
   "execution_count": 93,
   "metadata": {},
   "outputs": [
    {
     "data": {
      "text/html": [
       "(No data)"
      ],
      "text/plain": [
       "(No data)"
      ]
     },
     "execution_count": 93,
     "metadata": {},
     "output_type": "execute_result"
    }
   ],
   "source": [
    "#Connect nodes of the artist to their songs and hometowns and interests!!! this is going to be fun \n",
    "graph.run(\"MATCH (n:Artist), (m:Song) WHERE n.most_popular_song\t = m.song CREATE (n)-[:MOST_FAMOUS_SONG_IS]->(m)\")\n",
    "\n",
    "#Hometown\n",
    "graph.run(\"MATCH (n:Artist), (m:Town) WHERE n.hometown_id = m.town CREATE (n)-[:HOMETOWN_IS]->(m)\")\n",
    "\n",
    "#Interest\n",
    "graph.run(\"MATCH (n:Artist), (m:Interests) WHERE n.interest_id = m.hobbies CREATE (n)-[:FAVORITE_HOBBY_IS{RiskFactor:m.risk_factor}]->(m)\")"
   ]
  },
  {
   "cell_type": "code",
   "execution_count": 94,
   "metadata": {},
   "outputs": [
    {
     "data": {
      "text/html": [
       "(No data)"
      ],
      "text/plain": [
       "(No data)"
      ]
     },
     "execution_count": 94,
     "metadata": {},
     "output_type": "execute_result"
    }
   ],
   "source": [
    "#Remove the values\n",
    "graph.run(\"MATCH (n:Person) REMOVE n.major, n.second_major, n.hometown_id, n.favorite_hobby_id, n.second_favorite_hobby_id, n.fav_artist_id\")"
   ]
  },
  {
   "cell_type": "code",
   "execution_count": 95,
   "metadata": {},
   "outputs": [
    {
     "data": {
      "text/html": [
       "(No data)"
      ],
      "text/plain": [
       "(No data)"
      ]
     },
     "execution_count": 95,
     "metadata": {},
     "output_type": "execute_result"
    }
   ],
   "source": [
    "#Remove values from the artists portion \n",
    "graph.run(\"MATCH (n:Artist) REMOVE n.most_popular_song, n.hometown_id, n.interest_id\")"
   ]
  },
  {
   "cell_type": "code",
   "execution_count": 96,
   "metadata": {},
   "outputs": [
    {
     "data": {
      "text/html": [
       "(No data)"
      ],
      "text/plain": [
       "(No data)"
      ]
     },
     "execution_count": 96,
     "metadata": {},
     "output_type": "execute_result"
    }
   ],
   "source": [
    "#Remove values from the major that is being used in the relationships themselves\n",
    "graph.run(\"MATCH (n:Major) REMOVE n.credits\")"
   ]
  },
  {
   "cell_type": "code",
   "execution_count": 97,
   "metadata": {},
   "outputs": [
    {
     "data": {
      "text/html": [
       "(No data)"
      ],
      "text/plain": [
       "(No data)"
      ]
     },
     "execution_count": 97,
     "metadata": {},
     "output_type": "execute_result"
    }
   ],
   "source": [
    "#Remove the risk factor from hobbies\n",
    "graph.run(\"MATCH (n:Hobbies) REMOVE n.risk_factor\")"
   ]
  }
 ],
 "metadata": {
  "kernelspec": {
   "display_name": "Python 3",
   "language": "python",
   "name": "python3"
  },
  "language_info": {
   "codemirror_mode": {
    "name": "ipython",
    "version": 3
   },
   "file_extension": ".py",
   "mimetype": "text/x-python",
   "name": "python",
   "nbconvert_exporter": "python",
   "pygments_lexer": "ipython3",
   "version": "3.8.3"
  }
 },
 "nbformat": 4,
 "nbformat_minor": 4
}
