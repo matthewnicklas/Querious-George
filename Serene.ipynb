{
 "cells": [
  {
   "cell_type": "code",
   "execution_count": 3,
   "metadata": {},
   "outputs": [
    {
     "name": "stdout",
     "output_type": "stream",
     "text": [
      "Requirement already satisfied: pymongo in ./opt/anaconda3/lib/python3.8/site-packages (3.11.4)\r\n"
     ]
    }
   ],
   "source": [
    "!pip install pymongo\n",
    "import pandas as pd\n",
    "import pymongo\n",
    "from pymongo import MongoClient"
   ]
  },
  {
   "cell_type": "code",
   "execution_count": 4,
   "metadata": {},
   "outputs": [],
   "source": [
    "client = MongoClient('localhost', 27017)"
   ]
  },
  {
   "cell_type": "code",
   "execution_count": 5,
   "metadata": {},
   "outputs": [
    {
     "data": {
      "text/plain": [
       "MongoClient(host=['localhost:27017'], document_class=dict, tz_aware=False, connect=True)"
      ]
     },
     "execution_count": 5,
     "metadata": {},
     "output_type": "execute_result"
    }
   ],
   "source": [
    "client"
   ]
  },
  {
   "cell_type": "code",
   "execution_count": 6,
   "metadata": {},
   "outputs": [],
   "source": [
    "db = client.Serene"
   ]
  },
  {
   "cell_type": "code",
   "execution_count": 7,
   "metadata": {},
   "outputs": [],
   "source": [
    "people = pd.read_csv(\"/Users/serenelu/Desktop/Project_2_Names.csv\")"
   ]
  },
  {
   "cell_type": "code",
   "execution_count": 8,
   "metadata": {},
   "outputs": [
    {
     "data": {
      "text/html": [
       "<div>\n",
       "<style scoped>\n",
       "    .dataframe tbody tr th:only-of-type {\n",
       "        vertical-align: middle;\n",
       "    }\n",
       "\n",
       "    .dataframe tbody tr th {\n",
       "        vertical-align: top;\n",
       "    }\n",
       "\n",
       "    .dataframe thead th {\n",
       "        text-align: right;\n",
       "    }\n",
       "</style>\n",
       "<table border=\"1\" class=\"dataframe\">\n",
       "  <thead>\n",
       "    <tr style=\"text-align: right;\">\n",
       "      <th></th>\n",
       "      <th>id</th>\n",
       "      <th>first_name</th>\n",
       "      <th>last_name</th>\n",
       "      <th>graduation_year</th>\n",
       "      <th>age</th>\n",
       "      <th>number_of_family_members</th>\n",
       "      <th>fav_color</th>\n",
       "      <th>fav_animal</th>\n",
       "      <th>fav_tv_show</th>\n",
       "      <th>fav_movie</th>\n",
       "      <th>beach_or_mtns</th>\n",
       "      <th>fav_icecream</th>\n",
       "      <th>hometown</th>\n",
       "      <th>major</th>\n",
       "      <th>second_major</th>\n",
       "      <th>minor</th>\n",
       "      <th>favorite_hobby</th>\n",
       "      <th>second_favorite_hobby</th>\n",
       "      <th>fav_artist</th>\n",
       "    </tr>\n",
       "  </thead>\n",
       "  <tbody>\n",
       "    <tr>\n",
       "      <th>0</th>\n",
       "      <td>1</td>\n",
       "      <td>Matt</td>\n",
       "      <td>Nicklas</td>\n",
       "      <td>2018</td>\n",
       "      <td>25</td>\n",
       "      <td>3</td>\n",
       "      <td>blue</td>\n",
       "      <td>shark</td>\n",
       "      <td>Dexter</td>\n",
       "      <td>Dark Knight</td>\n",
       "      <td>beach</td>\n",
       "      <td>cookie dough</td>\n",
       "      <td>Springfield</td>\n",
       "      <td>Mechanical Engineering</td>\n",
       "      <td>NaN</td>\n",
       "      <td>Environmental Engineering</td>\n",
       "      <td>Board games</td>\n",
       "      <td>Frisbee golf</td>\n",
       "      <td>Coldplay</td>\n",
       "    </tr>\n",
       "    <tr>\n",
       "      <th>1</th>\n",
       "      <td>2</td>\n",
       "      <td>Cannon</td>\n",
       "      <td>Johns</td>\n",
       "      <td>2024</td>\n",
       "      <td>18</td>\n",
       "      <td>3</td>\n",
       "      <td>blue</td>\n",
       "      <td>giraffe</td>\n",
       "      <td>Arrested Development</td>\n",
       "      <td>Star Wars</td>\n",
       "      <td>beach</td>\n",
       "      <td>salted caramel</td>\n",
       "      <td>Philadelphia</td>\n",
       "      <td>Computer Science (BA)</td>\n",
       "      <td>Commerce</td>\n",
       "      <td>NaN</td>\n",
       "      <td>Surfing</td>\n",
       "      <td>Skating</td>\n",
       "      <td>Hippo Campus</td>\n",
       "    </tr>\n",
       "    <tr>\n",
       "      <th>2</th>\n",
       "      <td>3</td>\n",
       "      <td>Serene</td>\n",
       "      <td>Lu</td>\n",
       "      <td>2024</td>\n",
       "      <td>19</td>\n",
       "      <td>5</td>\n",
       "      <td>blue</td>\n",
       "      <td>bunny</td>\n",
       "      <td>New Girl</td>\n",
       "      <td>Inception</td>\n",
       "      <td>beach</td>\n",
       "      <td>cookies n' cream</td>\n",
       "      <td>Burke</td>\n",
       "      <td>Computer Science (BA)</td>\n",
       "      <td>Statistics</td>\n",
       "      <td>NaN</td>\n",
       "      <td>Playing guitar</td>\n",
       "      <td>Sleeping</td>\n",
       "      <td>Giveon</td>\n",
       "    </tr>\n",
       "    <tr>\n",
       "      <th>3</th>\n",
       "      <td>4</td>\n",
       "      <td>Aayushma</td>\n",
       "      <td>Bastola</td>\n",
       "      <td>2023</td>\n",
       "      <td>20</td>\n",
       "      <td>3</td>\n",
       "      <td>green</td>\n",
       "      <td>elephant</td>\n",
       "      <td>Fleabag</td>\n",
       "      <td>NaN</td>\n",
       "      <td>mountains</td>\n",
       "      <td>coffee</td>\n",
       "      <td>Fairfax</td>\n",
       "      <td>Commerce</td>\n",
       "      <td>Public Policy and Leadership</td>\n",
       "      <td>NaN</td>\n",
       "      <td>Singing</td>\n",
       "      <td>Eating</td>\n",
       "      <td>Taylor Swift</td>\n",
       "    </tr>\n",
       "  </tbody>\n",
       "</table>\n",
       "</div>"
      ],
      "text/plain": [
       "   id first_name last_name  graduation_year  age  number_of_family_members  \\\n",
       "0   1       Matt   Nicklas             2018   25                         3   \n",
       "1   2     Cannon     Johns             2024   18                         3   \n",
       "2   3     Serene        Lu             2024   19                         5   \n",
       "3   4   Aayushma   Bastola             2023   20                         3   \n",
       "\n",
       "  fav_color fav_animal           fav_tv_show    fav_movie beach_or_mtns  \\\n",
       "0      blue      shark                Dexter  Dark Knight         beach   \n",
       "1      blue    giraffe  Arrested Development    Star Wars         beach   \n",
       "2      blue      bunny              New Girl    Inception         beach   \n",
       "3     green   elephant               Fleabag          NaN     mountains   \n",
       "\n",
       "       fav_icecream      hometown                   major  \\\n",
       "0      cookie dough   Springfield  Mechanical Engineering   \n",
       "1    salted caramel  Philadelphia   Computer Science (BA)   \n",
       "2  cookies n' cream         Burke   Computer Science (BA)   \n",
       "3            coffee       Fairfax                Commerce   \n",
       "\n",
       "                   second_major                      minor  favorite_hobby  \\\n",
       "0                           NaN  Environmental Engineering    Board games    \n",
       "1                      Commerce                        NaN         Surfing   \n",
       "2                    Statistics                        NaN  Playing guitar   \n",
       "3  Public Policy and Leadership                        NaN         Singing   \n",
       "\n",
       "  second_favorite_hobby    fav_artist  \n",
       "0          Frisbee golf      Coldplay  \n",
       "1               Skating  Hippo Campus  \n",
       "2              Sleeping        Giveon  \n",
       "3                Eating  Taylor Swift  "
      ]
     },
     "execution_count": 8,
     "metadata": {},
     "output_type": "execute_result"
    }
   ],
   "source": [
    "people.head()"
   ]
  },
  {
   "cell_type": "code",
   "execution_count": 9,
   "metadata": {},
   "outputs": [],
   "source": [
    "artists = pd.read_csv(\"/Users/serenelu/Desktop/Project_2/DSL_ Database Project - Neo4j_Artists.csv\")\n",
    "interests = pd.read_csv(\"/Users/serenelu/Desktop/Project_2/DSL_ Database Project - Interests.csv\")\n",
    "majors = pd.read_csv(\"/Users/serenelu/Desktop/Project_2/DSL_ Database Project - Majors.csv\")\n",
    "music = pd.read_csv(\"/Users/serenelu/Desktop/Project_2/DSL_ Database Project - Music.csv\")\n",
    "towns = pd.read_csv(\"/Users/serenelu/Desktop/Project_2/DSL_ Database Project - Towns.csv\")"
   ]
  },
  {
   "cell_type": "code",
   "execution_count": 10,
   "metadata": {},
   "outputs": [],
   "source": [
    "collection = db.people"
   ]
  },
  {
   "cell_type": "code",
   "execution_count": 11,
   "metadata": {},
   "outputs": [],
   "source": [
    "serene = people.iloc[2]"
   ]
  },
  {
   "cell_type": "code",
   "execution_count": 12,
   "metadata": {},
   "outputs": [
    {
     "data": {
      "text/plain": [
       "id                                              3\n",
       "first_name                                 Serene\n",
       "last_name                                      Lu\n",
       "graduation_year                              2024\n",
       "age                                            19\n",
       "number_of_family_members                        5\n",
       "fav_color                                    blue\n",
       "fav_animal                                  bunny\n",
       "fav_tv_show                              New Girl\n",
       "fav_movie                               Inception\n",
       "beach_or_mtns                               beach\n",
       "fav_icecream                     cookies n' cream\n",
       "hometown                                    Burke\n",
       "major                       Computer Science (BA)\n",
       "second_major                           Statistics\n",
       "minor                                         NaN\n",
       "favorite_hobby                     Playing guitar\n",
       "second_favorite_hobby                    Sleeping\n",
       "fav_artist                                 Giveon\n",
       "Name: 2, dtype: object"
      ]
     },
     "execution_count": 12,
     "metadata": {},
     "output_type": "execute_result"
    }
   ],
   "source": [
    "serene"
   ]
  },
  {
   "cell_type": "code",
   "execution_count": 14,
   "metadata": {},
   "outputs": [
    {
     "data": {
      "text/plain": [
       "{'id': '2',\n",
       " 'major': 'Computer Science (BA)',\n",
       " 'number_of_classes': '38',\n",
       " 'school': 'Arts and Sciences',\n",
       " 'credits': '112',\n",
       " 'avg_start_salary': '68,600',\n",
       " 'application_based': 'False',\n",
       " 'graduation_honors_gpa': '3.6'}"
      ]
     },
     "execution_count": 14,
     "metadata": {},
     "output_type": "execute_result"
    }
   ],
   "source": [
    "serene_major1_dic = {}\n",
    "serene_major1 = majors.iloc[1]\n",
    "for i in range(len(serene_major1)):\n",
    "    serene_major1_dic[serene_major1.index[i]] = str(serene_major1[i])\n",
    "serene_major1_dic"
   ]
  },
  {
   "cell_type": "code",
   "execution_count": 15,
   "metadata": {},
   "outputs": [
    {
     "data": {
      "text/plain": [
       "{'id': '7',\n",
       " 'major': 'Statistics',\n",
       " 'number_of_classes': '38',\n",
       " 'school': 'Arts and Sciences',\n",
       " 'credits': '110',\n",
       " 'avg_start_salary': '70,000',\n",
       " 'application_based': 'False',\n",
       " 'graduation_honors_gpa': '3.6'}"
      ]
     },
     "execution_count": 15,
     "metadata": {},
     "output_type": "execute_result"
    }
   ],
   "source": [
    "serene_major2_dic = {}\n",
    "serene_major2 = majors.iloc[6]\n",
    "for i in range(len(serene_major2)):\n",
    "    serene_major2_dic[serene_major2.index[i]] = str(serene_major2[i])\n",
    "serene_major2_dic"
   ]
  },
  {
   "cell_type": "code",
   "execution_count": 18,
   "metadata": {},
   "outputs": [
    {
     "data": {
      "text/plain": [
       "{'id': '4',\n",
       " 'town': 'Burke',\n",
       " 'county': 'Fairfax',\n",
       " 'state': 'Virginia',\n",
       " 'country': 'USA',\n",
       " 'population': '41055',\n",
       " 'zipcode': '22015',\n",
       " 'area_code': '703'}"
      ]
     },
     "execution_count": 18,
     "metadata": {},
     "output_type": "execute_result"
    }
   ],
   "source": [
    "serene_hometown_dic = {}\n",
    "serene_hometown = towns.iloc[3]\n",
    "for i in range(len(serene_hometown)):\n",
    "    serene_hometown_dic[serene_hometown.index[i]] = str(serene_hometown[i])\n",
    "serene_hometown_dic"
   ]
  },
  {
   "cell_type": "code",
   "execution_count": 20,
   "metadata": {},
   "outputs": [
    {
     "data": {
      "text/plain": [
       "{'id': '7',\n",
       " 'hobbies': 'Playing guitar',\n",
       " 'location': 'Home',\n",
       " 'most_famous_person': 'Jimi Hendrix',\n",
       " 'skill_level_required': '6',\n",
       " 'risk_factor': '2',\n",
       " 'category': 'Art'}"
      ]
     },
     "execution_count": 20,
     "metadata": {},
     "output_type": "execute_result"
    }
   ],
   "source": [
    "serene_interest1_dic = {}\n",
    "serene_interest1 = interests.iloc[6]\n",
    "for i in range(len(serene_interest1)):\n",
    "    serene_interest1_dic[serene_interest1.index[i]] = str(serene_interest1[i])\n",
    "serene_interest1_dic"
   ]
  },
  {
   "cell_type": "code",
   "execution_count": 21,
   "metadata": {},
   "outputs": [
    {
     "data": {
      "text/plain": [
       "{'id': '4',\n",
       " 'hobbies': 'Eating',\n",
       " 'location': 'Anywhere',\n",
       " 'most_famous_person': 'Guy Fieri',\n",
       " 'skill_level_required': '1',\n",
       " 'risk_factor': '8',\n",
       " 'category': 'Leisure'}"
      ]
     },
     "execution_count": 21,
     "metadata": {},
     "output_type": "execute_result"
    }
   ],
   "source": [
    "serene_interest2_dic = {}\n",
    "serene_interest2 = interests.iloc[3]\n",
    "for i in range(len(serene_interest2)):\n",
    "    serene_interest2_dic[serene_interest2.index[i]] = str(serene_interest2[i])\n",
    "serene_interest2_dic"
   ]
  },
  {
   "cell_type": "code",
   "execution_count": 25,
   "metadata": {},
   "outputs": [
    {
     "data": {
      "text/plain": [
       "{'id': '22',\n",
       " 'name': 'Giveon',\n",
       " 'monthly_listens': '48249265',\n",
       " 'hometown_id': 'Long Beach',\n",
       " 'age': '26',\n",
       " 'net_worth': '800,000',\n",
       " 'most_popular_song': 'Heartbreak Anniversary',\n",
       " 'interest_id': 'Singing'}"
      ]
     },
     "execution_count": 25,
     "metadata": {},
     "output_type": "execute_result"
    }
   ],
   "source": [
    "serene_artist_dic = {}\n",
    "serene_artist = artists.iloc[20]\n",
    "for i in range(len(serene_artist)):\n",
    "    serene_artist_dic[serene_artist.index[i]] = str(serene_artist[i])\n",
    "serene_artist_dic"
   ]
  },
  {
   "cell_type": "code",
   "execution_count": 26,
   "metadata": {},
   "outputs": [
    {
     "data": {
      "text/plain": [
       "{'id': '3',\n",
       " 'first_name': 'Serene',\n",
       " 'last_name': 'Lu',\n",
       " 'graduation_year': '2024',\n",
       " 'age': '19',\n",
       " 'number_of_family_members': '5',\n",
       " 'fav_color': 'blue',\n",
       " 'fav_animal': 'bunny',\n",
       " 'fav_tv_show': 'New Girl',\n",
       " 'fav_movie': 'Inception',\n",
       " 'beach_or_mtns': 'beach',\n",
       " 'fav_icecream': \"cookies n' cream\",\n",
       " 'hometown': 'Burke',\n",
       " 'major': 'Computer Science (BA)',\n",
       " 'second_major': 'Statistics',\n",
       " 'minor': 'nan',\n",
       " 'favorite_hobby': 'Playing guitar',\n",
       " 'second_favorite_hobby': 'Sleeping',\n",
       " 'fav_artist': 'Giveon'}"
      ]
     },
     "execution_count": 26,
     "metadata": {},
     "output_type": "execute_result"
    }
   ],
   "source": [
    "nest = {}\n",
    "for i in range(len(serene)):\n",
    "    nest[serene.index[i]] = str(serene[i])\n",
    "nest"
   ]
  },
  {
   "cell_type": "code",
   "execution_count": 28,
   "metadata": {},
   "outputs": [
    {
     "data": {
      "text/plain": [
       "{'id': '3',\n",
       " 'first_name': 'Serene',\n",
       " 'last_name': 'Lu',\n",
       " 'graduation_year': '2024',\n",
       " 'age': '19',\n",
       " 'number_of_family_members': '5',\n",
       " 'fav_color': 'blue',\n",
       " 'fav_animal': 'bunny',\n",
       " 'fav_tv_show': 'New Girl',\n",
       " 'fav_movie': 'Inception',\n",
       " 'beach_or_mtns': 'beach',\n",
       " 'fav_icecream': \"cookies n' cream\",\n",
       " 'hometown': 'Burke',\n",
       " 'major': {'id': '2',\n",
       "  'major': 'Computer Science (BA)',\n",
       "  'number_of_classes': '38',\n",
       "  'school': 'Arts and Sciences',\n",
       "  'credits': '112',\n",
       "  'avg_start_salary': '68,600',\n",
       "  'application_based': 'False',\n",
       "  'graduation_honors_gpa': '3.6'},\n",
       " 'second_major': {'id': '7',\n",
       "  'major': 'Statistics',\n",
       "  'number_of_classes': '38',\n",
       "  'school': 'Arts and Sciences',\n",
       "  'credits': '110',\n",
       "  'avg_start_salary': '70,000',\n",
       "  'application_based': 'False',\n",
       "  'graduation_honors_gpa': '3.6'},\n",
       " 'minor': 'nan',\n",
       " 'favorite_hobby': 'Playing guitar',\n",
       " 'second_favorite_hobby': 'Sleeping',\n",
       " 'fav_artist': 'Giveon',\n",
       " 'hometown_id': {'id': '4',\n",
       "  'town': 'Burke',\n",
       "  'county': 'Fairfax',\n",
       "  'state': 'Virginia',\n",
       "  'country': 'USA',\n",
       "  'population': '41055',\n",
       "  'zipcode': '22015',\n",
       "  'area_code': '703'},\n",
       " 'favorite_hobby_id': {'id': '7',\n",
       "  'hobbies': 'Playing guitar',\n",
       "  'location': 'Home',\n",
       "  'most_famous_person': 'Jimi Hendrix',\n",
       "  'skill_level_required': '6',\n",
       "  'risk_factor': '2',\n",
       "  'category': 'Art'},\n",
       " 'second_favorite_hobby_id': {'id': '4',\n",
       "  'hobbies': 'Eating',\n",
       "  'location': 'Anywhere',\n",
       "  'most_famous_person': 'Guy Fieri',\n",
       "  'skill_level_required': '1',\n",
       "  'risk_factor': '8',\n",
       "  'category': 'Leisure'},\n",
       " 'fav_artist_id': {'id': '22',\n",
       "  'name': 'Giveon',\n",
       "  'monthly_listens': '48249265',\n",
       "  'hometown_id': 'Long Beach',\n",
       "  'age': '26',\n",
       "  'net_worth': '800,000',\n",
       "  'most_popular_song': 'Heartbreak Anniversary',\n",
       "  'interest_id': 'Singing'}}"
      ]
     },
     "execution_count": 28,
     "metadata": {},
     "output_type": "execute_result"
    }
   ],
   "source": [
    "nest['major'] = serene_major1_dic\n",
    "nest['second_major'] = serene_major2_dic\n",
    "nest['hometown_id'] = serene_hometown_dic\n",
    "nest['favorite_hobby_id'] = serene_interest1_dic\n",
    "nest['second_favorite_hobby_id'] = serene_interest2_dic\n",
    "nest['fav_artist_id'] = serene_artist_dic\n",
    "nest"
   ]
  },
  {
   "cell_type": "code",
   "execution_count": 29,
   "metadata": {},
   "outputs": [
    {
     "data": {
      "text/plain": [
       "<pymongo.results.InsertOneResult at 0x7fb3e84f7f00>"
      ]
     },
     "execution_count": 29,
     "metadata": {},
     "output_type": "execute_result"
    }
   ],
   "source": [
    "collection.insert_one(nest)"
   ]
  },
  {
   "cell_type": "code",
   "execution_count": null,
   "metadata": {},
   "outputs": [],
   "source": []
  }
 ],
 "metadata": {
  "kernelspec": {
   "display_name": "Python 3",
   "language": "python",
   "name": "python3"
  },
  "language_info": {
   "codemirror_mode": {
    "name": "ipython",
    "version": 3
   },
   "file_extension": ".py",
   "mimetype": "text/x-python",
   "name": "python",
   "nbconvert_exporter": "python",
   "pygments_lexer": "ipython3",
   "version": "3.8.5"
  }
 },
 "nbformat": 4,
 "nbformat_minor": 4
}
