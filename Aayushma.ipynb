{
 "cells": [
  {
   "cell_type": "code",
   "execution_count": 9,
   "metadata": {},
   "outputs": [],
   "source": [
    "import pandas as pd\n",
    "import pymongo\n",
    "from pymongo import MongoClient"
   ]
  },
  {
   "cell_type": "code",
   "execution_count": 2,
   "metadata": {},
   "outputs": [
    {
     "data": {
      "text/plain": [
       "MongoClient(host=['localhost:27017'], document_class=dict, tz_aware=False, connect=True)"
      ]
     },
     "execution_count": 2,
     "metadata": {},
     "output_type": "execute_result"
    }
   ],
   "source": [
    "client = MongoClient('localhost', 27017)\n",
    "client"
   ]
  },
  {
   "cell_type": "code",
   "execution_count": 14,
   "metadata": {},
   "outputs": [],
   "source": [
    "DSL_db = client.Aayushma"
   ]
  },
  {
   "cell_type": "code",
   "execution_count": 15,
   "metadata": {},
   "outputs": [],
   "source": [
    "people = pd.read_csv(\"/Users/aayushma/Downloads/forge/DS-Launch-Training/week-2/Querious-George/Project 2 Data/People.csv\")\n",
    "artists = pd.read_csv(\"Project_2_Data/Artists.csv\")\n",
    "interests = pd.read_csv(\"Project_2_Data/Interests.csv\")\n",
    "majors = pd.read_csv(\"Project_2_Data/Majors.csv\")\n",
    "music = pd.read_csv(\"Project_2_Data/Music.csv\")\n",
    "towns = pd.read_csv(\"Project_2_Data/Towns.csv\")"
   ]
  },
  {
   "cell_type": "code",
   "execution_count": 16,
   "metadata": {},
   "outputs": [
    {
     "data": {
      "text/html": [
       "<div>\n",
       "<style scoped>\n",
       "    .dataframe tbody tr th:only-of-type {\n",
       "        vertical-align: middle;\n",
       "    }\n",
       "\n",
       "    .dataframe tbody tr th {\n",
       "        vertical-align: top;\n",
       "    }\n",
       "\n",
       "    .dataframe thead th {\n",
       "        text-align: right;\n",
       "    }\n",
       "</style>\n",
       "<table border=\"1\" class=\"dataframe\">\n",
       "  <thead>\n",
       "    <tr style=\"text-align: right;\">\n",
       "      <th></th>\n",
       "      <th>id</th>\n",
       "      <th>first_name</th>\n",
       "      <th>last_name</th>\n",
       "      <th>graduation_year</th>\n",
       "      <th>age</th>\n",
       "      <th>number_of_family_members</th>\n",
       "      <th>fav_color</th>\n",
       "      <th>fav_animal</th>\n",
       "      <th>fav_tv_show</th>\n",
       "      <th>fav_movie</th>\n",
       "      <th>beach_or_mtns</th>\n",
       "      <th>fav_icecream</th>\n",
       "      <th>hometown_id</th>\n",
       "      <th>major</th>\n",
       "      <th>second_major</th>\n",
       "      <th>minor</th>\n",
       "      <th>favorite_hobby_id</th>\n",
       "      <th>second_favorite_hobby_id</th>\n",
       "      <th>fav_artist_id</th>\n",
       "    </tr>\n",
       "  </thead>\n",
       "  <tbody>\n",
       "    <tr>\n",
       "      <th>0</th>\n",
       "      <td>1</td>\n",
       "      <td>Matt</td>\n",
       "      <td>Nicklas</td>\n",
       "      <td>2018</td>\n",
       "      <td>25</td>\n",
       "      <td>3</td>\n",
       "      <td>blue</td>\n",
       "      <td>shark</td>\n",
       "      <td>Dexter</td>\n",
       "      <td>Dark Knight</td>\n",
       "      <td>beach</td>\n",
       "      <td>cookie dough</td>\n",
       "      <td>Springfield</td>\n",
       "      <td>Mechanical Engineering</td>\n",
       "      <td>NaN</td>\n",
       "      <td>Environmental Engineering</td>\n",
       "      <td>Board games</td>\n",
       "      <td>Frisbee golf</td>\n",
       "      <td>Coldplay</td>\n",
       "    </tr>\n",
       "    <tr>\n",
       "      <th>1</th>\n",
       "      <td>2</td>\n",
       "      <td>Cannon</td>\n",
       "      <td>Johns</td>\n",
       "      <td>2024</td>\n",
       "      <td>18</td>\n",
       "      <td>3</td>\n",
       "      <td>blue</td>\n",
       "      <td>giraffe</td>\n",
       "      <td>Arrested Development</td>\n",
       "      <td>Star Wars</td>\n",
       "      <td>beach</td>\n",
       "      <td>salted caramel</td>\n",
       "      <td>Philadelphia</td>\n",
       "      <td>Computer Science (BA)</td>\n",
       "      <td>Commerce</td>\n",
       "      <td>NaN</td>\n",
       "      <td>Surfing</td>\n",
       "      <td>Skating</td>\n",
       "      <td>Hippo Campus</td>\n",
       "    </tr>\n",
       "    <tr>\n",
       "      <th>2</th>\n",
       "      <td>3</td>\n",
       "      <td>Serene</td>\n",
       "      <td>Lu</td>\n",
       "      <td>2024</td>\n",
       "      <td>19</td>\n",
       "      <td>5</td>\n",
       "      <td>blue</td>\n",
       "      <td>bunny</td>\n",
       "      <td>New Girl</td>\n",
       "      <td>Inception</td>\n",
       "      <td>beach</td>\n",
       "      <td>cookies n' cream</td>\n",
       "      <td>Burke</td>\n",
       "      <td>Computer Science (BA)</td>\n",
       "      <td>Statistics</td>\n",
       "      <td>NaN</td>\n",
       "      <td>Playing guitar</td>\n",
       "      <td>Sleeping</td>\n",
       "      <td>Giveon</td>\n",
       "    </tr>\n",
       "    <tr>\n",
       "      <th>3</th>\n",
       "      <td>4</td>\n",
       "      <td>Aayushma</td>\n",
       "      <td>Bastola</td>\n",
       "      <td>2023</td>\n",
       "      <td>20</td>\n",
       "      <td>3</td>\n",
       "      <td>green</td>\n",
       "      <td>elephant</td>\n",
       "      <td>Fleabag</td>\n",
       "      <td>Get Out</td>\n",
       "      <td>mountains</td>\n",
       "      <td>coffee</td>\n",
       "      <td>Fairfax</td>\n",
       "      <td>Commerce</td>\n",
       "      <td>Public Policy and Leadership</td>\n",
       "      <td>NaN</td>\n",
       "      <td>Singing</td>\n",
       "      <td>Eating</td>\n",
       "      <td>Taylor Swift</td>\n",
       "    </tr>\n",
       "  </tbody>\n",
       "</table>\n",
       "</div>"
      ],
      "text/plain": [
       "   id first_name last_name  graduation_year  age  number_of_family_members  \\\n",
       "0   1       Matt   Nicklas             2018   25                         3   \n",
       "1   2     Cannon     Johns             2024   18                         3   \n",
       "2   3     Serene        Lu             2024   19                         5   \n",
       "3   4   Aayushma   Bastola             2023   20                         3   \n",
       "\n",
       "  fav_color fav_animal           fav_tv_show    fav_movie beach_or_mtns  \\\n",
       "0      blue      shark                Dexter  Dark Knight         beach   \n",
       "1      blue    giraffe  Arrested Development    Star Wars         beach   \n",
       "2      blue      bunny              New Girl    Inception         beach   \n",
       "3     green   elephant               Fleabag      Get Out     mountains   \n",
       "\n",
       "       fav_icecream   hometown_id                   major  \\\n",
       "0      cookie dough   Springfield  Mechanical Engineering   \n",
       "1    salted caramel  Philadelphia   Computer Science (BA)   \n",
       "2  cookies n' cream         Burke   Computer Science (BA)   \n",
       "3            coffee       Fairfax                Commerce   \n",
       "\n",
       "                   second_major                      minor favorite_hobby_id  \\\n",
       "0                           NaN  Environmental Engineering       Board games   \n",
       "1                      Commerce                        NaN           Surfing   \n",
       "2                    Statistics                        NaN    Playing guitar   \n",
       "3  Public Policy and Leadership                        NaN           Singing   \n",
       "\n",
       "  second_favorite_hobby_id fav_artist_id  \n",
       "0             Frisbee golf      Coldplay  \n",
       "1                  Skating  Hippo Campus  \n",
       "2                 Sleeping        Giveon  \n",
       "3                   Eating  Taylor Swift  "
      ]
     },
     "execution_count": 16,
     "metadata": {},
     "output_type": "execute_result"
    }
   ],
   "source": [
    "people"
   ]
  },
  {
   "cell_type": "code",
   "execution_count": 17,
   "metadata": {},
   "outputs": [],
   "source": [
    "collection = DSL_db.people"
   ]
  },
  {
   "cell_type": "code",
   "execution_count": 21,
   "metadata": {},
   "outputs": [
    {
     "data": {
      "text/plain": [
       "id                                                     4\n",
       "first_name                                      Aayushma\n",
       "last_name                                        Bastola\n",
       "graduation_year                                     2023\n",
       "age                                                   20\n",
       "number_of_family_members                               3\n",
       "fav_color                                          green\n",
       "fav_animal                                      elephant\n",
       "fav_tv_show                                      Fleabag\n",
       "fav_movie                                        Get Out\n",
       "beach_or_mtns                                  mountains\n",
       "fav_icecream                                      coffee\n",
       "hometown_id                                      Fairfax\n",
       "major                                           Commerce\n",
       "second_major                Public Policy and Leadership\n",
       "minor                                                NaN\n",
       "favorite_hobby_id                                Singing\n",
       "second_favorite_hobby_id                          Eating\n",
       "fav_artist_id                               Taylor Swift\n",
       "Name: 3, dtype: object"
      ]
     },
     "execution_count": 21,
     "metadata": {},
     "output_type": "execute_result"
    }
   ],
   "source": [
    "aayushma =people.iloc[3]\n",
    "aayushma"
   ]
  },
  {
   "cell_type": "code",
   "execution_count": 36,
   "metadata": {},
   "outputs": [
    {
     "data": {
      "text/plain": [
       "id                                                  5\n",
       "major                    Public Policy and Leadership\n",
       "number_of_classes                                  37\n",
       "school                                         Batten\n",
       "credits                                           110\n",
       "avg_start_salary                               49,380\n",
       "application_based                                True\n",
       "graduation_honors_gpa                             3.4\n",
       "Name: 4, dtype: object"
      ]
     },
     "execution_count": 36,
     "metadata": {},
     "output_type": "execute_result"
    }
   ],
   "source": [
    "majors\n",
    "aayushma_major1 = majors.iloc[4]\n",
    "aayushma_major1"
   ]
  },
  {
   "cell_type": "code",
   "execution_count": 37,
   "metadata": {},
   "outputs": [
    {
     "data": {
      "text/plain": [
       "{'id': '5',\n",
       " 'major': 'Public Policy and Leadership',\n",
       " 'number_of_classes': '37',\n",
       " 'school': 'Batten',\n",
       " 'credits': '110',\n",
       " 'avg_start_salary': '49,380',\n",
       " 'application_based': 'True',\n",
       " 'graduation_honors_gpa': '3.4'}"
      ]
     },
     "execution_count": 37,
     "metadata": {},
     "output_type": "execute_result"
    }
   ],
   "source": [
    "aayushma_major1_dict = {}\n",
    "for i in range(len(aayushma_major1)):\n",
    "    aayushma_major1_dict[aayushma_major1.index[i]] = str(aayushma_major1[i])\n",
    "\n",
    "aayushma_major1_dict"
   ]
  },
  {
   "cell_type": "code",
   "execution_count": 38,
   "metadata": {},
   "outputs": [
    {
     "data": {
      "text/plain": [
       "id                                                6\n",
       "major                    Global Development Studies\n",
       "number_of_classes                                34\n",
       "school                            Arts and Sciences\n",
       "credits                                         100\n",
       "avg_start_salary                             51,774\n",
       "application_based                              True\n",
       "graduation_honors_gpa                           3.6\n",
       "Name: 5, dtype: object"
      ]
     },
     "execution_count": 38,
     "metadata": {},
     "output_type": "execute_result"
    }
   ],
   "source": [
    "aayushma_major2 = majors.iloc[5]\n",
    "aayushma_major2"
   ]
  },
  {
   "cell_type": "code",
   "execution_count": 39,
   "metadata": {},
   "outputs": [
    {
     "data": {
      "text/plain": [
       "{'id': '6',\n",
       " 'major': 'Global Development Studies',\n",
       " 'number_of_classes': '34',\n",
       " 'school': 'Arts and Sciences',\n",
       " 'credits': '100',\n",
       " 'avg_start_salary': '51,774',\n",
       " 'application_based': 'True',\n",
       " 'graduation_honors_gpa': '3.6'}"
      ]
     },
     "execution_count": 39,
     "metadata": {},
     "output_type": "execute_result"
    }
   ],
   "source": [
    "aayushma_major2_dict = {}\n",
    "for i in range(len(aayushma_major2)):\n",
    "    aayushma_major2_dict[aayushma_major2.index[i]] = str(aayushma_major2[i])\n",
    "\n",
    "aayushma_major2_dict"
   ]
  },
  {
   "cell_type": "code",
   "execution_count": 41,
   "metadata": {},
   "outputs": [
    {
     "data": {
      "text/plain": [
       "id                   6\n",
       "town           Fairfax\n",
       "county         Fairfax\n",
       "state         Virginia\n",
       "country            USA\n",
       "population       23531\n",
       "zipcode          22030\n",
       "area_code          571\n",
       "Name: 5, dtype: object"
      ]
     },
     "execution_count": 41,
     "metadata": {},
     "output_type": "execute_result"
    }
   ],
   "source": [
    "towns\n",
    "aayushma_towns = towns.iloc[5]\n",
    "aayushma_towns"
   ]
  },
  {
   "cell_type": "code",
   "execution_count": 44,
   "metadata": {},
   "outputs": [
    {
     "data": {
      "text/plain": [
       "{'id': '6',\n",
       " 'town': 'Fairfax',\n",
       " 'county': 'Fairfax',\n",
       " 'state': 'Virginia',\n",
       " 'country': 'USA',\n",
       " 'population': '23531',\n",
       " 'zipcode': '22030',\n",
       " 'area_code': '571'}"
      ]
     },
     "execution_count": 44,
     "metadata": {},
     "output_type": "execute_result"
    }
   ],
   "source": [
    "aayushma_towns_dict = {}\n",
    "for i in range(len(aayushma_towns)):\n",
    "    aayushma_towns_dict[aayushma_towns.index[i]]= str(aayushma_towns[i])\n",
    "    \n",
    "aayushma_towns_dict"
   ]
  },
  {
   "cell_type": "code",
   "execution_count": 47,
   "metadata": {},
   "outputs": [
    {
     "data": {
      "text/html": [
       "<div>\n",
       "<style scoped>\n",
       "    .dataframe tbody tr th:only-of-type {\n",
       "        vertical-align: middle;\n",
       "    }\n",
       "\n",
       "    .dataframe tbody tr th {\n",
       "        vertical-align: top;\n",
       "    }\n",
       "\n",
       "    .dataframe thead th {\n",
       "        text-align: right;\n",
       "    }\n",
       "</style>\n",
       "<table border=\"1\" class=\"dataframe\">\n",
       "  <thead>\n",
       "    <tr style=\"text-align: right;\">\n",
       "      <th></th>\n",
       "      <th>id</th>\n",
       "      <th>hobbies</th>\n",
       "      <th>location</th>\n",
       "      <th>most_famous_person</th>\n",
       "      <th>skill_level_required</th>\n",
       "      <th>risk_factor</th>\n",
       "      <th>category</th>\n",
       "    </tr>\n",
       "  </thead>\n",
       "  <tbody>\n",
       "    <tr>\n",
       "      <th>0</th>\n",
       "      <td>1</td>\n",
       "      <td>Surfing</td>\n",
       "      <td>Beach</td>\n",
       "      <td>Shaun White</td>\n",
       "      <td>9</td>\n",
       "      <td>9</td>\n",
       "      <td>Sport</td>\n",
       "    </tr>\n",
       "    <tr>\n",
       "      <th>1</th>\n",
       "      <td>2</td>\n",
       "      <td>Frisbee golf</td>\n",
       "      <td>Forest</td>\n",
       "      <td>Paul McBeth</td>\n",
       "      <td>6</td>\n",
       "      <td>4</td>\n",
       "      <td>Sport</td>\n",
       "    </tr>\n",
       "    <tr>\n",
       "      <th>2</th>\n",
       "      <td>3</td>\n",
       "      <td>Board games</td>\n",
       "      <td>Home</td>\n",
       "      <td>Monopoly Man</td>\n",
       "      <td>3</td>\n",
       "      <td>2</td>\n",
       "      <td>Leisure</td>\n",
       "    </tr>\n",
       "    <tr>\n",
       "      <th>3</th>\n",
       "      <td>4</td>\n",
       "      <td>Eating</td>\n",
       "      <td>Anywhere</td>\n",
       "      <td>Guy Fieri</td>\n",
       "      <td>1</td>\n",
       "      <td>8</td>\n",
       "      <td>Leisure</td>\n",
       "    </tr>\n",
       "    <tr>\n",
       "      <th>4</th>\n",
       "      <td>5</td>\n",
       "      <td>Video games</td>\n",
       "      <td>Home</td>\n",
       "      <td>PewDiePie</td>\n",
       "      <td>5</td>\n",
       "      <td>2</td>\n",
       "      <td>Leisure</td>\n",
       "    </tr>\n",
       "    <tr>\n",
       "      <th>5</th>\n",
       "      <td>6</td>\n",
       "      <td>Reading</td>\n",
       "      <td>Home</td>\n",
       "      <td>Morgan Freeman</td>\n",
       "      <td>2</td>\n",
       "      <td>1</td>\n",
       "      <td>Leisure</td>\n",
       "    </tr>\n",
       "    <tr>\n",
       "      <th>6</th>\n",
       "      <td>7</td>\n",
       "      <td>Playing guitar</td>\n",
       "      <td>Home</td>\n",
       "      <td>Jimi Hendrix</td>\n",
       "      <td>6</td>\n",
       "      <td>2</td>\n",
       "      <td>Art</td>\n",
       "    </tr>\n",
       "    <tr>\n",
       "      <th>7</th>\n",
       "      <td>8</td>\n",
       "      <td>Skating</td>\n",
       "      <td>Skate Park</td>\n",
       "      <td>Tony Hawk</td>\n",
       "      <td>8</td>\n",
       "      <td>9</td>\n",
       "      <td>Sport</td>\n",
       "    </tr>\n",
       "    <tr>\n",
       "      <th>8</th>\n",
       "      <td>9</td>\n",
       "      <td>Singing</td>\n",
       "      <td>Home</td>\n",
       "      <td>Beyonce</td>\n",
       "      <td>6</td>\n",
       "      <td>1</td>\n",
       "      <td>Art</td>\n",
       "    </tr>\n",
       "    <tr>\n",
       "      <th>9</th>\n",
       "      <td>10</td>\n",
       "      <td>Tennis</td>\n",
       "      <td>Tennis Court</td>\n",
       "      <td>Roger Federer</td>\n",
       "      <td>7</td>\n",
       "      <td>5</td>\n",
       "      <td>Sport</td>\n",
       "    </tr>\n",
       "    <tr>\n",
       "      <th>10</th>\n",
       "      <td>11</td>\n",
       "      <td>Sleeping</td>\n",
       "      <td>Home</td>\n",
       "      <td>Snorlax</td>\n",
       "      <td>2</td>\n",
       "      <td>1</td>\n",
       "      <td>Leisure</td>\n",
       "    </tr>\n",
       "  </tbody>\n",
       "</table>\n",
       "</div>"
      ],
      "text/plain": [
       "    id         hobbies      location most_famous_person  skill_level_required  \\\n",
       "0    1         Surfing         Beach        Shaun White                     9   \n",
       "1    2    Frisbee golf        Forest        Paul McBeth                     6   \n",
       "2    3    Board games           Home       Monopoly Man                     3   \n",
       "3    4          Eating      Anywhere          Guy Fieri                     1   \n",
       "4    5     Video games          Home          PewDiePie                     5   \n",
       "5    6         Reading          Home     Morgan Freeman                     2   \n",
       "6    7  Playing guitar          Home       Jimi Hendrix                     6   \n",
       "7    8         Skating    Skate Park          Tony Hawk                     8   \n",
       "8    9         Singing          Home            Beyonce                     6   \n",
       "9   10          Tennis  Tennis Court      Roger Federer                     7   \n",
       "10  11        Sleeping          Home            Snorlax                     2   \n",
       "\n",
       "    risk_factor category  \n",
       "0             9    Sport  \n",
       "1             4    Sport  \n",
       "2             2  Leisure  \n",
       "3             8  Leisure  \n",
       "4             2  Leisure  \n",
       "5             1  Leisure  \n",
       "6             2      Art  \n",
       "7             9    Sport  \n",
       "8             1      Art  \n",
       "9             5    Sport  \n",
       "10            1  Leisure  "
      ]
     },
     "execution_count": 47,
     "metadata": {},
     "output_type": "execute_result"
    }
   ],
   "source": [
    "interests"
   ]
  },
  {
   "cell_type": "code",
   "execution_count": 49,
   "metadata": {},
   "outputs": [
    {
     "data": {
      "text/plain": [
       "{'id': '9',\n",
       " 'hobbies': 'Singing',\n",
       " 'location': 'Home',\n",
       " 'most_famous_person': 'Beyonce',\n",
       " 'skill_level_required': '6',\n",
       " 'risk_factor': '1',\n",
       " 'category': 'Art'}"
      ]
     },
     "execution_count": 49,
     "metadata": {},
     "output_type": "execute_result"
    }
   ],
   "source": [
    "aayushma_interests1 = interests.iloc[8]\n",
    "aayushma_interests1_dict = {}\n",
    "\n",
    "for i in range(len(aayushma_interests1)):\n",
    "    aayushma_interests1_dict[aayushma_interests1.index[i]]= str(aayushma_interests1[i])\n",
    "    \n",
    "aayushma_interests1_dict"
   ]
  },
  {
   "cell_type": "code",
   "execution_count": 51,
   "metadata": {},
   "outputs": [
    {
     "data": {
      "text/plain": [
       "{'id': '4',\n",
       " 'hobbies': 'Eating',\n",
       " 'location': 'Anywhere',\n",
       " 'most_famous_person': 'Guy Fieri',\n",
       " 'skill_level_required': '1',\n",
       " 'risk_factor': '8',\n",
       " 'category': 'Leisure'}"
      ]
     },
     "execution_count": 51,
     "metadata": {},
     "output_type": "execute_result"
    }
   ],
   "source": [
    "aayushma_interests2 = interests.iloc[3]\n",
    "aayushma_interests2_dict = {}\n",
    "\n",
    "for i in range(len(aayushma_interests2)):\n",
    "    aayushma_interests2_dict[aayushma_interests2.index[i]]= str(aayushma_interests2[i])\n",
    "    \n",
    "aayushma_interests2_dict"
   ]
  },
  {
   "cell_type": "code",
   "execution_count": 52,
   "metadata": {},
   "outputs": [
    {
     "data": {
      "text/html": [
       "<div>\n",
       "<style scoped>\n",
       "    .dataframe tbody tr th:only-of-type {\n",
       "        vertical-align: middle;\n",
       "    }\n",
       "\n",
       "    .dataframe tbody tr th {\n",
       "        vertical-align: top;\n",
       "    }\n",
       "\n",
       "    .dataframe thead th {\n",
       "        text-align: right;\n",
       "    }\n",
       "</style>\n",
       "<table border=\"1\" class=\"dataframe\">\n",
       "  <thead>\n",
       "    <tr style=\"text-align: right;\">\n",
       "      <th></th>\n",
       "      <th>id</th>\n",
       "      <th>name</th>\n",
       "      <th>monthly_listens</th>\n",
       "      <th>hometown_id</th>\n",
       "      <th>age</th>\n",
       "      <th>net_worth</th>\n",
       "      <th>most_popular_song</th>\n",
       "      <th>interest_id</th>\n",
       "    </tr>\n",
       "  </thead>\n",
       "  <tbody>\n",
       "    <tr>\n",
       "      <th>0</th>\n",
       "      <td>1</td>\n",
       "      <td>Taylor Swift</td>\n",
       "      <td>42961049</td>\n",
       "      <td>Reading</td>\n",
       "      <td>31</td>\n",
       "      <td>400,000,000</td>\n",
       "      <td>Shake It Off</td>\n",
       "      <td>Playing guitar</td>\n",
       "    </tr>\n",
       "    <tr>\n",
       "      <th>1</th>\n",
       "      <td>2</td>\n",
       "      <td>HAIM</td>\n",
       "      <td>5493993</td>\n",
       "      <td>Los Angeles</td>\n",
       "      <td>35</td>\n",
       "      <td>5,000,000</td>\n",
       "      <td>The Wire</td>\n",
       "      <td>Playing guitar</td>\n",
       "    </tr>\n",
       "    <tr>\n",
       "      <th>2</th>\n",
       "      <td>3</td>\n",
       "      <td>Amy Winehouse</td>\n",
       "      <td>11016435</td>\n",
       "      <td>London</td>\n",
       "      <td>27</td>\n",
       "      <td>5,000,000</td>\n",
       "      <td>Back to Black</td>\n",
       "      <td>Playing guitar</td>\n",
       "    </tr>\n",
       "    <tr>\n",
       "      <th>3</th>\n",
       "      <td>4</td>\n",
       "      <td>Florence + the Machine</td>\n",
       "      <td>10407322</td>\n",
       "      <td>London</td>\n",
       "      <td>34</td>\n",
       "      <td>28,000,000</td>\n",
       "      <td>Dog Days are Over</td>\n",
       "      <td>Reading</td>\n",
       "    </tr>\n",
       "    <tr>\n",
       "      <th>4</th>\n",
       "      <td>5</td>\n",
       "      <td>Chase Atlantic</td>\n",
       "      <td>6279620</td>\n",
       "      <td>Cairns</td>\n",
       "      <td>24</td>\n",
       "      <td>7,300,000</td>\n",
       "      <td>Friends</td>\n",
       "      <td>Skating</td>\n",
       "    </tr>\n",
       "  </tbody>\n",
       "</table>\n",
       "</div>"
      ],
      "text/plain": [
       "   id                    name  monthly_listens  hometown_id  age    net_worth  \\\n",
       "0   1            Taylor Swift         42961049      Reading   31  400,000,000   \n",
       "1   2                    HAIM          5493993  Los Angeles   35    5,000,000   \n",
       "2   3           Amy Winehouse         11016435       London   27    5,000,000   \n",
       "3   4  Florence + the Machine         10407322       London   34   28,000,000   \n",
       "4   5          Chase Atlantic          6279620       Cairns   24    7,300,000   \n",
       "\n",
       "   most_popular_song     interest_id  \n",
       "0       Shake It Off  Playing guitar  \n",
       "1           The Wire  Playing guitar  \n",
       "2      Back to Black  Playing guitar  \n",
       "3  Dog Days are Over         Reading  \n",
       "4            Friends         Skating  "
      ]
     },
     "execution_count": 52,
     "metadata": {},
     "output_type": "execute_result"
    }
   ],
   "source": [
    "artists.head()"
   ]
  },
  {
   "cell_type": "code",
   "execution_count": 54,
   "metadata": {},
   "outputs": [
    {
     "data": {
      "text/plain": [
       "{'id': '1',\n",
       " 'name': 'Taylor Swift',\n",
       " 'monthly_listens': '42961049',\n",
       " 'hometown_id': 'Reading',\n",
       " 'age': '31',\n",
       " 'net_worth': '400,000,000',\n",
       " 'most_popular_song': 'Shake It Off',\n",
       " 'interest_id': 'Playing guitar'}"
      ]
     },
     "execution_count": 54,
     "metadata": {},
     "output_type": "execute_result"
    }
   ],
   "source": [
    "aayushma_artist = artists.iloc[0]\n",
    "aayushma_artist_dict = {}\n",
    "\n",
    "for i in range(len(aayushma_artist)):\n",
    "    aayushma_artist_dict[aayushma_artist.index[i]]= str(aayushma_artist[i])\n",
    "    \n",
    "aayushma_artist_dict"
   ]
  },
  {
   "cell_type": "code",
   "execution_count": 55,
   "metadata": {},
   "outputs": [
    {
     "data": {
      "text/plain": [
       "{'id': '1',\n",
       " 'name': 'Taylor Swift',\n",
       " 'monthly_listens': '42961049',\n",
       " 'hometown_id': 'Reading',\n",
       " 'age': '31',\n",
       " 'net_worth': '400,000,000',\n",
       " 'most_popular_song': 'Shake It Off',\n",
       " 'interest_id': 'Playing guitar'}"
      ]
     },
     "execution_count": 55,
     "metadata": {},
     "output_type": "execute_result"
    }
   ],
   "source": [
    "aayushma_artist = artists.iloc[0]\n",
    "aayushma_artist_dict = {}\n",
    "\n",
    "for i in range(len(aayushma_artist)):\n",
    "    aayushma_artist_dict[aayushma_artist.index[i]]= str(aayushma_artist[i])\n",
    "    \n",
    "aayushma_artist_dict"
   ]
  },
  {
   "cell_type": "code",
   "execution_count": 57,
   "metadata": {},
   "outputs": [
    {
     "data": {
      "text/plain": [
       "{'id': '4',\n",
       " 'first_name': 'Aayushma',\n",
       " 'last_name': 'Bastola',\n",
       " 'graduation_year': '2023',\n",
       " 'age': '20',\n",
       " 'number_of_family_members': '3',\n",
       " 'fav_color': 'green',\n",
       " 'fav_animal': 'elephant',\n",
       " 'fav_tv_show': 'Fleabag',\n",
       " 'fav_movie': 'Get Out',\n",
       " 'beach_or_mtns': 'mountains',\n",
       " 'fav_icecream': 'coffee',\n",
       " 'hometown_id': 'Fairfax',\n",
       " 'major': 'Commerce',\n",
       " 'second_major': 'Public Policy and Leadership',\n",
       " 'minor': 'nan',\n",
       " 'favorite_hobby_id': 'Singing',\n",
       " 'second_favorite_hobby_id': 'Eating',\n",
       " 'fav_artist_id': 'Taylor Swift'}"
      ]
     },
     "execution_count": 57,
     "metadata": {},
     "output_type": "execute_result"
    }
   ],
   "source": [
    "nest = {}\n",
    "\n",
    "for i in range(len(aayushma)):\n",
    "    nest[aayushma.index[i]]= str(aayushma[i])\n",
    "    \n",
    "nest"
   ]
  },
  {
   "cell_type": "code",
   "execution_count": 61,
   "metadata": {},
   "outputs": [
    {
     "data": {
      "text/plain": [
       "{'id': '4',\n",
       " 'first_name': 'Aayushma',\n",
       " 'last_name': 'Bastola',\n",
       " 'graduation_year': '2023',\n",
       " 'age': '20',\n",
       " 'number_of_family_members': '3',\n",
       " 'fav_color': 'green',\n",
       " 'fav_animal': 'elephant',\n",
       " 'fav_tv_show': 'Fleabag',\n",
       " 'fav_movie': 'Get Out',\n",
       " 'beach_or_mtns': 'mountains',\n",
       " 'fav_icecream': 'coffee',\n",
       " 'hometown_id': 'Fairfax',\n",
       " 'major': {'id': '5',\n",
       "  'major': 'Public Policy and Leadership',\n",
       "  'number_of_classes': '37',\n",
       "  'school': 'Batten',\n",
       "  'credits': '110',\n",
       "  'avg_start_salary': '49,380',\n",
       "  'application_based': 'True',\n",
       "  'graduation_honors_gpa': '3.4'},\n",
       " 'second_major': 'Public Policy and Leadership',\n",
       " 'minor': 'nan',\n",
       " 'favorite_hobby_id': 'Singing',\n",
       " 'second_favorite_hobby_id': 'Eating',\n",
       " 'fav_artist_id': 'Taylor Swift'}"
      ]
     },
     "execution_count": 61,
     "metadata": {},
     "output_type": "execute_result"
    }
   ],
   "source": [
    "nest['major']= aayushma_major1_dict\n",
    "nest"
   ]
  },
  {
   "cell_type": "code",
   "execution_count": 62,
   "metadata": {},
   "outputs": [
    {
     "data": {
      "text/plain": [
       "{'id': '4',\n",
       " 'first_name': 'Aayushma',\n",
       " 'last_name': 'Bastola',\n",
       " 'graduation_year': '2023',\n",
       " 'age': '20',\n",
       " 'number_of_family_members': '3',\n",
       " 'fav_color': 'green',\n",
       " 'fav_animal': 'elephant',\n",
       " 'fav_tv_show': 'Fleabag',\n",
       " 'fav_movie': 'Get Out',\n",
       " 'beach_or_mtns': 'mountains',\n",
       " 'fav_icecream': 'coffee',\n",
       " 'hometown_id': 'Fairfax',\n",
       " 'major': {'id': '5',\n",
       "  'major': 'Public Policy and Leadership',\n",
       "  'number_of_classes': '37',\n",
       "  'school': 'Batten',\n",
       "  'credits': '110',\n",
       "  'avg_start_salary': '49,380',\n",
       "  'application_based': 'True',\n",
       "  'graduation_honors_gpa': '3.4'},\n",
       " 'second_major': {'id': '6',\n",
       "  'major': 'Global Development Studies',\n",
       "  'number_of_classes': '34',\n",
       "  'school': 'Arts and Sciences',\n",
       "  'credits': '100',\n",
       "  'avg_start_salary': '51,774',\n",
       "  'application_based': 'True',\n",
       "  'graduation_honors_gpa': '3.6'},\n",
       " 'minor': 'nan',\n",
       " 'favorite_hobby_id': 'Singing',\n",
       " 'second_favorite_hobby_id': 'Eating',\n",
       " 'fav_artist_id': 'Taylor Swift'}"
      ]
     },
     "execution_count": 62,
     "metadata": {},
     "output_type": "execute_result"
    }
   ],
   "source": [
    "nest['second_major']= aayushma_major2_dict\n",
    "nest"
   ]
  },
  {
   "cell_type": "code",
   "execution_count": 66,
   "metadata": {},
   "outputs": [
    {
     "data": {
      "text/plain": [
       "{'id': '4',\n",
       " 'first_name': 'Aayushma',\n",
       " 'last_name': 'Bastola',\n",
       " 'graduation_year': '2023',\n",
       " 'age': '20',\n",
       " 'number_of_family_members': '3',\n",
       " 'fav_color': 'green',\n",
       " 'fav_animal': 'elephant',\n",
       " 'fav_tv_show': 'Fleabag',\n",
       " 'fav_movie': 'Get Out',\n",
       " 'beach_or_mtns': 'mountains',\n",
       " 'fav_icecream': 'coffee',\n",
       " 'hometown_id': {'id': '6',\n",
       "  'town': 'Fairfax',\n",
       "  'county': 'Fairfax',\n",
       "  'state': 'Virginia',\n",
       "  'country': 'USA',\n",
       "  'population': '23531',\n",
       "  'zipcode': '22030',\n",
       "  'area_code': '571'},\n",
       " 'major': {'id': '5',\n",
       "  'major': 'Public Policy and Leadership',\n",
       "  'number_of_classes': '37',\n",
       "  'school': 'Batten',\n",
       "  'credits': '110',\n",
       "  'avg_start_salary': '49,380',\n",
       "  'application_based': 'True',\n",
       "  'graduation_honors_gpa': '3.4'},\n",
       " 'second_major': {'id': '6',\n",
       "  'major': 'Global Development Studies',\n",
       "  'number_of_classes': '34',\n",
       "  'school': 'Arts and Sciences',\n",
       "  'credits': '100',\n",
       "  'avg_start_salary': '51,774',\n",
       "  'application_based': 'True',\n",
       "  'graduation_honors_gpa': '3.6'},\n",
       " 'minor': 'nan',\n",
       " 'favorite_hobby_id': 'Singing',\n",
       " 'second_favorite_hobby_id': 'Eating',\n",
       " 'fav_artist_id': 'Taylor Swift'}"
      ]
     },
     "execution_count": 66,
     "metadata": {},
     "output_type": "execute_result"
    }
   ],
   "source": [
    "nest[\"hometown_id\"]= aayushma_towns_dict\n",
    "nest"
   ]
  },
  {
   "cell_type": "code",
   "execution_count": 68,
   "metadata": {},
   "outputs": [
    {
     "data": {
      "text/plain": [
       "{'id': '4',\n",
       " 'first_name': 'Aayushma',\n",
       " 'last_name': 'Bastola',\n",
       " 'graduation_year': '2023',\n",
       " 'age': '20',\n",
       " 'number_of_family_members': '3',\n",
       " 'fav_color': 'green',\n",
       " 'fav_animal': 'elephant',\n",
       " 'fav_tv_show': 'Fleabag',\n",
       " 'fav_movie': 'Get Out',\n",
       " 'beach_or_mtns': 'mountains',\n",
       " 'fav_icecream': 'coffee',\n",
       " 'hometown_id': {'id': '6',\n",
       "  'town': 'Fairfax',\n",
       "  'county': 'Fairfax',\n",
       "  'state': 'Virginia',\n",
       "  'country': 'USA',\n",
       "  'population': '23531',\n",
       "  'zipcode': '22030',\n",
       "  'area_code': '571'},\n",
       " 'major': {'id': '5',\n",
       "  'major': 'Public Policy and Leadership',\n",
       "  'number_of_classes': '37',\n",
       "  'school': 'Batten',\n",
       "  'credits': '110',\n",
       "  'avg_start_salary': '49,380',\n",
       "  'application_based': 'True',\n",
       "  'graduation_honors_gpa': '3.4'},\n",
       " 'second_major': {'id': '6',\n",
       "  'major': 'Global Development Studies',\n",
       "  'number_of_classes': '34',\n",
       "  'school': 'Arts and Sciences',\n",
       "  'credits': '100',\n",
       "  'avg_start_salary': '51,774',\n",
       "  'application_based': 'True',\n",
       "  'graduation_honors_gpa': '3.6'},\n",
       " 'minor': 'nan',\n",
       " 'favorite_hobby_id': {'id': '9',\n",
       "  'hobbies': 'Singing',\n",
       "  'location': 'Home',\n",
       "  'most_famous_person': 'Beyonce',\n",
       "  'skill_level_required': '6',\n",
       "  'risk_factor': '1',\n",
       "  'category': 'Art'},\n",
       " 'second_favorite_hobby_id': 'Eating',\n",
       " 'fav_artist_id': 'Taylor Swift'}"
      ]
     },
     "execution_count": 68,
     "metadata": {},
     "output_type": "execute_result"
    }
   ],
   "source": [
    "nest[\"favorite_hobby_id\"]= aayushma_interests1_dict\n",
    "nest"
   ]
  },
  {
   "cell_type": "code",
   "execution_count": 69,
   "metadata": {},
   "outputs": [
    {
     "data": {
      "text/plain": [
       "{'id': '4',\n",
       " 'first_name': 'Aayushma',\n",
       " 'last_name': 'Bastola',\n",
       " 'graduation_year': '2023',\n",
       " 'age': '20',\n",
       " 'number_of_family_members': '3',\n",
       " 'fav_color': 'green',\n",
       " 'fav_animal': 'elephant',\n",
       " 'fav_tv_show': 'Fleabag',\n",
       " 'fav_movie': 'Get Out',\n",
       " 'beach_or_mtns': 'mountains',\n",
       " 'fav_icecream': 'coffee',\n",
       " 'hometown_id': {'id': '6',\n",
       "  'town': 'Fairfax',\n",
       "  'county': 'Fairfax',\n",
       "  'state': 'Virginia',\n",
       "  'country': 'USA',\n",
       "  'population': '23531',\n",
       "  'zipcode': '22030',\n",
       "  'area_code': '571'},\n",
       " 'major': {'id': '5',\n",
       "  'major': 'Public Policy and Leadership',\n",
       "  'number_of_classes': '37',\n",
       "  'school': 'Batten',\n",
       "  'credits': '110',\n",
       "  'avg_start_salary': '49,380',\n",
       "  'application_based': 'True',\n",
       "  'graduation_honors_gpa': '3.4'},\n",
       " 'second_major': {'id': '6',\n",
       "  'major': 'Global Development Studies',\n",
       "  'number_of_classes': '34',\n",
       "  'school': 'Arts and Sciences',\n",
       "  'credits': '100',\n",
       "  'avg_start_salary': '51,774',\n",
       "  'application_based': 'True',\n",
       "  'graduation_honors_gpa': '3.6'},\n",
       " 'minor': 'nan',\n",
       " 'favorite_hobby_id': {'id': '4',\n",
       "  'hobbies': 'Eating',\n",
       "  'location': 'Anywhere',\n",
       "  'most_famous_person': 'Guy Fieri',\n",
       "  'skill_level_required': '1',\n",
       "  'risk_factor': '8',\n",
       "  'category': 'Leisure'},\n",
       " 'second_favorite_hobby_id': 'Eating',\n",
       " 'fav_artist_id': 'Taylor Swift'}"
      ]
     },
     "execution_count": 69,
     "metadata": {},
     "output_type": "execute_result"
    }
   ],
   "source": [
    "nest[\"favorite_hobby_id\"]= aayushma_interests2_dict\n",
    "nest"
   ]
  },
  {
   "cell_type": "code",
   "execution_count": 70,
   "metadata": {},
   "outputs": [
    {
     "data": {
      "text/plain": [
       "{'id': '4',\n",
       " 'first_name': 'Aayushma',\n",
       " 'last_name': 'Bastola',\n",
       " 'graduation_year': '2023',\n",
       " 'age': '20',\n",
       " 'number_of_family_members': '3',\n",
       " 'fav_color': 'green',\n",
       " 'fav_animal': 'elephant',\n",
       " 'fav_tv_show': 'Fleabag',\n",
       " 'fav_movie': 'Get Out',\n",
       " 'beach_or_mtns': 'mountains',\n",
       " 'fav_icecream': 'coffee',\n",
       " 'hometown_id': {'id': '6',\n",
       "  'town': 'Fairfax',\n",
       "  'county': 'Fairfax',\n",
       "  'state': 'Virginia',\n",
       "  'country': 'USA',\n",
       "  'population': '23531',\n",
       "  'zipcode': '22030',\n",
       "  'area_code': '571'},\n",
       " 'major': {'id': '5',\n",
       "  'major': 'Public Policy and Leadership',\n",
       "  'number_of_classes': '37',\n",
       "  'school': 'Batten',\n",
       "  'credits': '110',\n",
       "  'avg_start_salary': '49,380',\n",
       "  'application_based': 'True',\n",
       "  'graduation_honors_gpa': '3.4'},\n",
       " 'second_major': {'id': '6',\n",
       "  'major': 'Global Development Studies',\n",
       "  'number_of_classes': '34',\n",
       "  'school': 'Arts and Sciences',\n",
       "  'credits': '100',\n",
       "  'avg_start_salary': '51,774',\n",
       "  'application_based': 'True',\n",
       "  'graduation_honors_gpa': '3.6'},\n",
       " 'minor': 'nan',\n",
       " 'favorite_hobby_id': {'id': '4',\n",
       "  'hobbies': 'Eating',\n",
       "  'location': 'Anywhere',\n",
       "  'most_famous_person': 'Guy Fieri',\n",
       "  'skill_level_required': '1',\n",
       "  'risk_factor': '8',\n",
       "  'category': 'Leisure'},\n",
       " 'second_favorite_hobby_id': 'Eating',\n",
       " 'fav_artist_id': {'id': '1',\n",
       "  'name': 'Taylor Swift',\n",
       "  'monthly_listens': '42961049',\n",
       "  'hometown_id': 'Reading',\n",
       "  'age': '31',\n",
       "  'net_worth': '400,000,000',\n",
       "  'most_popular_song': 'Shake It Off',\n",
       "  'interest_id': 'Playing guitar'}}"
      ]
     },
     "execution_count": 70,
     "metadata": {},
     "output_type": "execute_result"
    }
   ],
   "source": [
    "nest[\"fav_artist_id\"]= aayushma_artist_dict\n",
    "nest"
   ]
  },
  {
   "cell_type": "code",
   "execution_count": 71,
   "metadata": {},
   "outputs": [
    {
     "data": {
      "text/plain": [
       "<pymongo.results.InsertOneResult at 0x7f8a56e81410>"
      ]
     },
     "execution_count": 71,
     "metadata": {},
     "output_type": "execute_result"
    }
   ],
   "source": [
    "collection.insert_one(nest)"
   ]
  },
  {
   "cell_type": "code",
   "execution_count": null,
   "metadata": {},
   "outputs": [],
   "source": []
  }
 ],
 "metadata": {
  "kernelspec": {
   "display_name": "Python 3",
   "language": "python",
   "name": "python3"
  },
  "language_info": {
   "codemirror_mode": {
    "name": "ipython",
    "version": 3
   },
   "file_extension": ".py",
   "mimetype": "text/x-python",
   "name": "python",
   "nbconvert_exporter": "python",
   "pygments_lexer": "ipython3",
   "version": "3.7.4"
  }
 },
 "nbformat": 4,
 "nbformat_minor": 2
}
