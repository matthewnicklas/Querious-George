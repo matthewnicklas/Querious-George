{
 "cells": [
  {
   "cell_type": "code",
   "execution_count": 1,
   "id": "6f58c18e",
   "metadata": {},
   "outputs": [
    {
     "name": "stdout",
     "output_type": "stream",
     "text": [
      "Requirement already satisfied: pymongo in c:\\users\\student\\anaconda3\\lib\\site-packages (3.11.4)\n"
     ]
    }
   ],
   "source": [
    "!pip install pymongo\n",
    "import pandas as pd\n",
    "import pymongo\n",
    "from pymongo import MongoClient"
   ]
  },
  {
   "cell_type": "code",
   "execution_count": 2,
   "id": "8370405b",
   "metadata": {},
   "outputs": [],
   "source": [
    "client = MongoClient('localhost', 27017)"
   ]
  },
  {
   "cell_type": "code",
   "execution_count": 3,
   "id": "c64ffd6d",
   "metadata": {},
   "outputs": [
    {
     "data": {
      "text/plain": [
       "MongoClient(host=['localhost:27017'], document_class=dict, tz_aware=False, connect=True)"
      ]
     },
     "execution_count": 3,
     "metadata": {},
     "output_type": "execute_result"
    }
   ],
   "source": [
    "client"
   ]
  },
  {
   "cell_type": "code",
   "execution_count": 4,
   "id": "eddb4f7d",
   "metadata": {},
   "outputs": [],
   "source": [
    "db = client.Cannon"
   ]
  },
  {
   "cell_type": "code",
   "execution_count": 5,
   "id": "ac5fa043",
   "metadata": {},
   "outputs": [],
   "source": [
    "people = pd.read_csv(\"Project_2_Data/People.csv\")"
   ]
  },
  {
   "cell_type": "code",
   "execution_count": 6,
   "id": "3e6b2d40",
   "metadata": {},
   "outputs": [
    {
     "data": {
      "text/html": [
       "<div>\n",
       "<style scoped>\n",
       "    .dataframe tbody tr th:only-of-type {\n",
       "        vertical-align: middle;\n",
       "    }\n",
       "\n",
       "    .dataframe tbody tr th {\n",
       "        vertical-align: top;\n",
       "    }\n",
       "\n",
       "    .dataframe thead th {\n",
       "        text-align: right;\n",
       "    }\n",
       "</style>\n",
       "<table border=\"1\" class=\"dataframe\">\n",
       "  <thead>\n",
       "    <tr style=\"text-align: right;\">\n",
       "      <th></th>\n",
       "      <th>id</th>\n",
       "      <th>first_name</th>\n",
       "      <th>last_name</th>\n",
       "      <th>graduation_year</th>\n",
       "      <th>age</th>\n",
       "      <th>number_of_family_members</th>\n",
       "      <th>fav_color</th>\n",
       "      <th>fav_animal</th>\n",
       "      <th>fav_tv_show</th>\n",
       "      <th>fav_movie</th>\n",
       "      <th>beach_or_mtns</th>\n",
       "      <th>fav_icecream</th>\n",
       "      <th>hometown_id</th>\n",
       "      <th>major</th>\n",
       "      <th>second_major</th>\n",
       "      <th>minor</th>\n",
       "      <th>favorite_hobby_id</th>\n",
       "      <th>second_favorite_hobby_id</th>\n",
       "      <th>fav_artist_id</th>\n",
       "    </tr>\n",
       "  </thead>\n",
       "  <tbody>\n",
       "    <tr>\n",
       "      <th>0</th>\n",
       "      <td>1</td>\n",
       "      <td>Matt</td>\n",
       "      <td>Nicklas</td>\n",
       "      <td>2018</td>\n",
       "      <td>25</td>\n",
       "      <td>3</td>\n",
       "      <td>blue</td>\n",
       "      <td>shark</td>\n",
       "      <td>Dexter</td>\n",
       "      <td>Dark Knight</td>\n",
       "      <td>beach</td>\n",
       "      <td>cookie dough</td>\n",
       "      <td>Springfield</td>\n",
       "      <td>Mechanical Engineering</td>\n",
       "      <td>NaN</td>\n",
       "      <td>Environmental Engineering</td>\n",
       "      <td>Board games</td>\n",
       "      <td>Frisbee golf</td>\n",
       "      <td>Coldplay</td>\n",
       "    </tr>\n",
       "    <tr>\n",
       "      <th>1</th>\n",
       "      <td>2</td>\n",
       "      <td>Cannon</td>\n",
       "      <td>Johns</td>\n",
       "      <td>2024</td>\n",
       "      <td>18</td>\n",
       "      <td>3</td>\n",
       "      <td>blue</td>\n",
       "      <td>giraffe</td>\n",
       "      <td>Arrested Development</td>\n",
       "      <td>Star Wars</td>\n",
       "      <td>beach</td>\n",
       "      <td>salted caramel</td>\n",
       "      <td>Philadelphia</td>\n",
       "      <td>Computer Science (BA)</td>\n",
       "      <td>Commerce</td>\n",
       "      <td>NaN</td>\n",
       "      <td>Surfing</td>\n",
       "      <td>Skating</td>\n",
       "      <td>Hippo Campus</td>\n",
       "    </tr>\n",
       "    <tr>\n",
       "      <th>2</th>\n",
       "      <td>3</td>\n",
       "      <td>Serene</td>\n",
       "      <td>Lu</td>\n",
       "      <td>2024</td>\n",
       "      <td>19</td>\n",
       "      <td>5</td>\n",
       "      <td>blue</td>\n",
       "      <td>bunny</td>\n",
       "      <td>New Girl</td>\n",
       "      <td>Inception</td>\n",
       "      <td>beach</td>\n",
       "      <td>cookies n' cream</td>\n",
       "      <td>Burke</td>\n",
       "      <td>Computer Science (BA)</td>\n",
       "      <td>Statistics</td>\n",
       "      <td>NaN</td>\n",
       "      <td>Playing guitar</td>\n",
       "      <td>Sleeping</td>\n",
       "      <td>Giveon</td>\n",
       "    </tr>\n",
       "    <tr>\n",
       "      <th>3</th>\n",
       "      <td>4</td>\n",
       "      <td>Aayushma</td>\n",
       "      <td>Bastola</td>\n",
       "      <td>2023</td>\n",
       "      <td>20</td>\n",
       "      <td>3</td>\n",
       "      <td>green</td>\n",
       "      <td>elephant</td>\n",
       "      <td>Fleabag</td>\n",
       "      <td>Get Out</td>\n",
       "      <td>mountains</td>\n",
       "      <td>coffee</td>\n",
       "      <td>Fairfax</td>\n",
       "      <td>Commerce</td>\n",
       "      <td>Public Policy and Leadership</td>\n",
       "      <td>NaN</td>\n",
       "      <td>Singing</td>\n",
       "      <td>Eating</td>\n",
       "      <td>Taylor Swift</td>\n",
       "    </tr>\n",
       "  </tbody>\n",
       "</table>\n",
       "</div>"
      ],
      "text/plain": [
       "   id first_name last_name  graduation_year  age  number_of_family_members  \\\n",
       "0   1       Matt   Nicklas             2018   25                         3   \n",
       "1   2     Cannon     Johns             2024   18                         3   \n",
       "2   3     Serene        Lu             2024   19                         5   \n",
       "3   4   Aayushma   Bastola             2023   20                         3   \n",
       "\n",
       "  fav_color fav_animal           fav_tv_show    fav_movie beach_or_mtns  \\\n",
       "0      blue      shark                Dexter  Dark Knight         beach   \n",
       "1      blue    giraffe  Arrested Development    Star Wars         beach   \n",
       "2      blue      bunny              New Girl    Inception         beach   \n",
       "3     green   elephant               Fleabag      Get Out     mountains   \n",
       "\n",
       "       fav_icecream   hometown_id                   major  \\\n",
       "0      cookie dough   Springfield  Mechanical Engineering   \n",
       "1    salted caramel  Philadelphia   Computer Science (BA)   \n",
       "2  cookies n' cream         Burke   Computer Science (BA)   \n",
       "3            coffee       Fairfax                Commerce   \n",
       "\n",
       "                   second_major                      minor favorite_hobby_id  \\\n",
       "0                           NaN  Environmental Engineering       Board games   \n",
       "1                      Commerce                        NaN           Surfing   \n",
       "2                    Statistics                        NaN    Playing guitar   \n",
       "3  Public Policy and Leadership                        NaN           Singing   \n",
       "\n",
       "  second_favorite_hobby_id fav_artist_id  \n",
       "0             Frisbee golf      Coldplay  \n",
       "1                  Skating  Hippo Campus  \n",
       "2                 Sleeping        Giveon  \n",
       "3                   Eating  Taylor Swift  "
      ]
     },
     "execution_count": 6,
     "metadata": {},
     "output_type": "execute_result"
    }
   ],
   "source": [
    "people.head()"
   ]
  },
  {
   "cell_type": "code",
   "execution_count": null,
   "id": "6e28fc5b",
   "metadata": {},
   "outputs": [],
   "source": [
    "artists = pd.read_csv(\"Project_2_Data/Artists.csv\")\n",
    "interests = pd.read_csv(\"Project_2_Data/Interests.csv\")\n",
    "majors = pd.read_csv(\"Project_2_Data/Majors.csv\")\n",
    "music = pd.read_csv(\"Project_2_Data/Music.csv\")\n",
    "towns = pd.read_csv(\"Project_2_Data/Towns.csv\")"
   ]
  }
 ],
 "metadata": {
  "kernelspec": {
   "display_name": "Python 3",
   "language": "python",
   "name": "python3"
  },
  "language_info": {
   "codemirror_mode": {
    "name": "ipython",
    "version": 3
   },
   "file_extension": ".py",
   "mimetype": "text/x-python",
   "name": "python",
   "nbconvert_exporter": "python",
   "pygments_lexer": "ipython3",
   "version": "3.8.3"
  }
 },
 "nbformat": 4,
 "nbformat_minor": 5
}
