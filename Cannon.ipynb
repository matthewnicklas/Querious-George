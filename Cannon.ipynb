{
 "cells": [
  {
   "cell_type": "code",
   "execution_count": 38,
   "id": "c863d82a",
   "metadata": {},
   "outputs": [
    {
     "name": "stdout",
     "output_type": "stream",
     "text": [
      "Requirement already satisfied: pymongo in c:\\users\\student\\anaconda3\\lib\\site-packages (3.11.4)\n"
     ]
    }
   ],
   "source": [
    "!pip install pymongo\n",
    "import pandas as pd\n",
    "import pymongo\n",
    "from pymongo import MongoClient"
   ]
  },
  {
   "cell_type": "code",
   "execution_count": 39,
   "id": "92ed8198",
   "metadata": {},
   "outputs": [],
   "source": [
    "client = MongoClient('localhost', 27017)"
   ]
  },
  {
   "cell_type": "code",
   "execution_count": 40,
   "id": "67e436ce",
   "metadata": {},
   "outputs": [
    {
     "data": {
      "text/plain": [
       "MongoClient(host=['localhost:27017'], document_class=dict, tz_aware=False, connect=True)"
      ]
     },
     "execution_count": 40,
     "metadata": {},
     "output_type": "execute_result"
    }
   ],
   "source": [
    "client"
   ]
  },
  {
   "cell_type": "code",
   "execution_count": 41,
   "id": "decbafb6",
   "metadata": {},
   "outputs": [],
   "source": [
    "db = client.Cannon"
   ]
  },
  {
   "cell_type": "code",
   "execution_count": 42,
   "id": "31e1c33f",
   "metadata": {},
   "outputs": [],
   "source": [
    "people = pd.read_csv(\"Project_2_Data/People.csv\")"
   ]
  },
  {
   "cell_type": "code",
   "execution_count": 43,
   "id": "fb4ad9e3",
   "metadata": {},
   "outputs": [
    {
     "data": {
      "text/html": [
       "<div>\n",
       "<style scoped>\n",
       "    .dataframe tbody tr th:only-of-type {\n",
       "        vertical-align: middle;\n",
       "    }\n",
       "\n",
       "    .dataframe tbody tr th {\n",
       "        vertical-align: top;\n",
       "    }\n",
       "\n",
       "    .dataframe thead th {\n",
       "        text-align: right;\n",
       "    }\n",
       "</style>\n",
       "<table border=\"1\" class=\"dataframe\">\n",
       "  <thead>\n",
       "    <tr style=\"text-align: right;\">\n",
       "      <th></th>\n",
       "      <th>id</th>\n",
       "      <th>first_name</th>\n",
       "      <th>last_name</th>\n",
       "      <th>graduation_year</th>\n",
       "      <th>age</th>\n",
       "      <th>number_of_family_members</th>\n",
       "      <th>fav_color</th>\n",
       "      <th>fav_animal</th>\n",
       "      <th>fav_tv_show</th>\n",
       "      <th>fav_movie</th>\n",
       "      <th>beach_or_mtns</th>\n",
       "      <th>fav_icecream</th>\n",
       "      <th>hometown_id</th>\n",
       "      <th>major</th>\n",
       "      <th>second_major</th>\n",
       "      <th>minor</th>\n",
       "      <th>favorite_hobby_id</th>\n",
       "      <th>second_favorite_hobby_id</th>\n",
       "      <th>fav_artist_id</th>\n",
       "    </tr>\n",
       "  </thead>\n",
       "  <tbody>\n",
       "    <tr>\n",
       "      <th>0</th>\n",
       "      <td>1</td>\n",
       "      <td>Matt</td>\n",
       "      <td>Nicklas</td>\n",
       "      <td>2018</td>\n",
       "      <td>25</td>\n",
       "      <td>3</td>\n",
       "      <td>blue</td>\n",
       "      <td>shark</td>\n",
       "      <td>Dexter</td>\n",
       "      <td>Dark Knight</td>\n",
       "      <td>beach</td>\n",
       "      <td>cookie dough</td>\n",
       "      <td>Springfield</td>\n",
       "      <td>Mechanical Engineering</td>\n",
       "      <td>NaN</td>\n",
       "      <td>Environmental Engineering</td>\n",
       "      <td>Board games</td>\n",
       "      <td>Frisbee golf</td>\n",
       "      <td>Coldplay</td>\n",
       "    </tr>\n",
       "    <tr>\n",
       "      <th>1</th>\n",
       "      <td>2</td>\n",
       "      <td>Cannon</td>\n",
       "      <td>Johns</td>\n",
       "      <td>2024</td>\n",
       "      <td>18</td>\n",
       "      <td>3</td>\n",
       "      <td>blue</td>\n",
       "      <td>giraffe</td>\n",
       "      <td>Arrested Development</td>\n",
       "      <td>Star Wars</td>\n",
       "      <td>beach</td>\n",
       "      <td>salted caramel</td>\n",
       "      <td>Philadelphia</td>\n",
       "      <td>Computer Science (BA)</td>\n",
       "      <td>Commerce</td>\n",
       "      <td>NaN</td>\n",
       "      <td>Surfing</td>\n",
       "      <td>Skating</td>\n",
       "      <td>Hippo Campus</td>\n",
       "    </tr>\n",
       "    <tr>\n",
       "      <th>2</th>\n",
       "      <td>3</td>\n",
       "      <td>Serene</td>\n",
       "      <td>Lu</td>\n",
       "      <td>2024</td>\n",
       "      <td>19</td>\n",
       "      <td>5</td>\n",
       "      <td>blue</td>\n",
       "      <td>bunny</td>\n",
       "      <td>New Girl</td>\n",
       "      <td>Inception</td>\n",
       "      <td>beach</td>\n",
       "      <td>cookies n' cream</td>\n",
       "      <td>Burke</td>\n",
       "      <td>Computer Science (BA)</td>\n",
       "      <td>Statistics</td>\n",
       "      <td>NaN</td>\n",
       "      <td>Playing guitar</td>\n",
       "      <td>Sleeping</td>\n",
       "      <td>Giveon</td>\n",
       "    </tr>\n",
       "    <tr>\n",
       "      <th>3</th>\n",
       "      <td>4</td>\n",
       "      <td>Aayushma</td>\n",
       "      <td>Bastola</td>\n",
       "      <td>2023</td>\n",
       "      <td>20</td>\n",
       "      <td>3</td>\n",
       "      <td>green</td>\n",
       "      <td>elephant</td>\n",
       "      <td>Fleabag</td>\n",
       "      <td>Get Out</td>\n",
       "      <td>mountains</td>\n",
       "      <td>coffee</td>\n",
       "      <td>Fairfax</td>\n",
       "      <td>Commerce</td>\n",
       "      <td>Public Policy and Leadership</td>\n",
       "      <td>NaN</td>\n",
       "      <td>Singing</td>\n",
       "      <td>Eating</td>\n",
       "      <td>Taylor Swift</td>\n",
       "    </tr>\n",
       "  </tbody>\n",
       "</table>\n",
       "</div>"
      ],
      "text/plain": [
       "   id first_name last_name  graduation_year  age  number_of_family_members  \\\n",
       "0   1       Matt   Nicklas             2018   25                         3   \n",
       "1   2     Cannon     Johns             2024   18                         3   \n",
       "2   3     Serene        Lu             2024   19                         5   \n",
       "3   4   Aayushma   Bastola             2023   20                         3   \n",
       "\n",
       "  fav_color fav_animal           fav_tv_show    fav_movie beach_or_mtns  \\\n",
       "0      blue      shark                Dexter  Dark Knight         beach   \n",
       "1      blue    giraffe  Arrested Development    Star Wars         beach   \n",
       "2      blue      bunny              New Girl    Inception         beach   \n",
       "3     green   elephant               Fleabag      Get Out     mountains   \n",
       "\n",
       "       fav_icecream   hometown_id                   major  \\\n",
       "0      cookie dough   Springfield  Mechanical Engineering   \n",
       "1    salted caramel  Philadelphia   Computer Science (BA)   \n",
       "2  cookies n' cream         Burke   Computer Science (BA)   \n",
       "3            coffee       Fairfax                Commerce   \n",
       "\n",
       "                   second_major                      minor favorite_hobby_id  \\\n",
       "0                           NaN  Environmental Engineering       Board games   \n",
       "1                      Commerce                        NaN           Surfing   \n",
       "2                    Statistics                        NaN    Playing guitar   \n",
       "3  Public Policy and Leadership                        NaN           Singing   \n",
       "\n",
       "  second_favorite_hobby_id fav_artist_id  \n",
       "0             Frisbee golf      Coldplay  \n",
       "1                  Skating  Hippo Campus  \n",
       "2                 Sleeping        Giveon  \n",
       "3                   Eating  Taylor Swift  "
      ]
     },
     "execution_count": 43,
     "metadata": {},
     "output_type": "execute_result"
    }
   ],
   "source": [
    "people.head()"
   ]
  },
  {
   "cell_type": "code",
   "execution_count": 44,
   "id": "a0d2c2cf",
   "metadata": {},
   "outputs": [],
   "source": [
    "artists = pd.read_csv(\"Project_2_Data/Artists.csv\")\n",
    "interests = pd.read_csv(\"Project_2_Data/Interests.csv\")\n",
    "majors = pd.read_csv(\"Project_2_Data/Majors.csv\")\n",
    "music = pd.read_csv(\"Project_2_Data/Music.csv\")\n",
    "towns = pd.read_csv(\"Project_2_Data/Towns.csv\")"
   ]
  },
  {
   "cell_type": "code",
   "execution_count": 45,
   "id": "31147c1a",
   "metadata": {},
   "outputs": [],
   "source": [
    "collection = db.people"
   ]
  },
  {
   "cell_type": "code",
   "execution_count": 46,
   "id": "eacca207",
   "metadata": {},
   "outputs": [],
   "source": [
    "cannon = people.iloc[1]"
   ]
  },
  {
   "cell_type": "code",
   "execution_count": 47,
   "id": "e6699d80",
   "metadata": {},
   "outputs": [
    {
     "data": {
      "text/plain": [
       "id                                              2\n",
       "first_name                                 Cannon\n",
       "last_name                                   Johns\n",
       "graduation_year                              2024\n",
       "age                                            18\n",
       "number_of_family_members                        3\n",
       "fav_color                                    blue\n",
       "fav_animal                                giraffe\n",
       "fav_tv_show                  Arrested Development\n",
       "fav_movie                               Star Wars\n",
       "beach_or_mtns                               beach\n",
       "fav_icecream                       salted caramel\n",
       "hometown_id                          Philadelphia\n",
       "major                       Computer Science (BA)\n",
       "second_major                             Commerce\n",
       "minor                                         NaN\n",
       "favorite_hobby_id                         Surfing\n",
       "second_favorite_hobby_id                  Skating\n",
       "fav_artist_id                        Hippo Campus\n",
       "Name: 1, dtype: object"
      ]
     },
     "execution_count": 47,
     "metadata": {},
     "output_type": "execute_result"
    }
   ],
   "source": [
    "cannon"
   ]
  },
  {
   "cell_type": "code",
   "execution_count": 48,
   "id": "278e6a8c",
   "metadata": {},
   "outputs": [
    {
     "data": {
      "text/html": [
       "<div>\n",
       "<style scoped>\n",
       "    .dataframe tbody tr th:only-of-type {\n",
       "        vertical-align: middle;\n",
       "    }\n",
       "\n",
       "    .dataframe tbody tr th {\n",
       "        vertical-align: top;\n",
       "    }\n",
       "\n",
       "    .dataframe thead th {\n",
       "        text-align: right;\n",
       "    }\n",
       "</style>\n",
       "<table border=\"1\" class=\"dataframe\">\n",
       "  <thead>\n",
       "    <tr style=\"text-align: right;\">\n",
       "      <th></th>\n",
       "      <th>id</th>\n",
       "      <th>major</th>\n",
       "      <th>number_of_classes</th>\n",
       "      <th>school</th>\n",
       "      <th>credits</th>\n",
       "      <th>avg_start_salary</th>\n",
       "      <th>application_based</th>\n",
       "      <th>graduation_honors_gpa</th>\n",
       "    </tr>\n",
       "  </thead>\n",
       "  <tbody>\n",
       "    <tr>\n",
       "      <th>0</th>\n",
       "      <td>1</td>\n",
       "      <td>Mechanical Engineering</td>\n",
       "      <td>40</td>\n",
       "      <td>Engineering</td>\n",
       "      <td>115</td>\n",
       "      <td>60,000</td>\n",
       "      <td>False</td>\n",
       "      <td>3.4</td>\n",
       "    </tr>\n",
       "    <tr>\n",
       "      <th>1</th>\n",
       "      <td>2</td>\n",
       "      <td>Computer Science (BA)</td>\n",
       "      <td>38</td>\n",
       "      <td>Arts and Sciences</td>\n",
       "      <td>112</td>\n",
       "      <td>68,600</td>\n",
       "      <td>False</td>\n",
       "      <td>3.6</td>\n",
       "    </tr>\n",
       "    <tr>\n",
       "      <th>2</th>\n",
       "      <td>3</td>\n",
       "      <td>Computer Science (BS)</td>\n",
       "      <td>38</td>\n",
       "      <td>Engineering</td>\n",
       "      <td>112</td>\n",
       "      <td>68,600</td>\n",
       "      <td>False</td>\n",
       "      <td>3.4</td>\n",
       "    </tr>\n",
       "    <tr>\n",
       "      <th>3</th>\n",
       "      <td>4</td>\n",
       "      <td>Commerce</td>\n",
       "      <td>36</td>\n",
       "      <td>McIntire</td>\n",
       "      <td>108</td>\n",
       "      <td>62,905</td>\n",
       "      <td>True</td>\n",
       "      <td>3.8</td>\n",
       "    </tr>\n",
       "    <tr>\n",
       "      <th>4</th>\n",
       "      <td>5</td>\n",
       "      <td>Public Policy and Leadership</td>\n",
       "      <td>37</td>\n",
       "      <td>Batten</td>\n",
       "      <td>110</td>\n",
       "      <td>49,380</td>\n",
       "      <td>True</td>\n",
       "      <td>3.4</td>\n",
       "    </tr>\n",
       "  </tbody>\n",
       "</table>\n",
       "</div>"
      ],
      "text/plain": [
       "   id                         major  number_of_classes             school  \\\n",
       "0   1        Mechanical Engineering                 40        Engineering   \n",
       "1   2         Computer Science (BA)                 38  Arts and Sciences   \n",
       "2   3         Computer Science (BS)                 38        Engineering   \n",
       "3   4                      Commerce                 36           McIntire   \n",
       "4   5  Public Policy and Leadership                 37             Batten   \n",
       "\n",
       "   credits avg_start_salary  application_based  graduation_honors_gpa  \n",
       "0      115           60,000              False                    3.4  \n",
       "1      112           68,600              False                    3.6  \n",
       "2      112           68,600              False                    3.4  \n",
       "3      108           62,905               True                    3.8  \n",
       "4      110           49,380               True                    3.4  "
      ]
     },
     "execution_count": 48,
     "metadata": {},
     "output_type": "execute_result"
    }
   ],
   "source": [
    "majors.head()"
   ]
  },
  {
   "cell_type": "code",
   "execution_count": 49,
   "id": "0b2ec588",
   "metadata": {},
   "outputs": [],
   "source": [
    "cannon_major_1_dic = {}\n",
    "cannon_major_1 = majors.iloc[1]\n",
    "for i in range(len(cannon_major_1)):\n",
    "    cannon_major_1_dic[cannon_major_1.index[i]] = str(cannon_major_1[i])"
   ]
  },
  {
   "cell_type": "code",
   "execution_count": 50,
   "id": "6b340346",
   "metadata": {},
   "outputs": [
    {
     "data": {
      "text/plain": [
       "{'id': '2',\n",
       " 'major': 'Computer Science (BA)',\n",
       " 'number_of_classes': '38',\n",
       " 'school': 'Arts and Sciences',\n",
       " 'credits': '112',\n",
       " 'avg_start_salary': '68,600',\n",
       " 'application_based': 'False',\n",
       " 'graduation_honors_gpa': '3.6'}"
      ]
     },
     "execution_count": 50,
     "metadata": {},
     "output_type": "execute_result"
    }
   ],
   "source": [
    "cannon_major_1_dic"
   ]
  },
  {
   "cell_type": "code",
   "execution_count": 51,
   "id": "65385a4d",
   "metadata": {},
   "outputs": [
    {
     "data": {
      "text/plain": [
       "{'id': '4',\n",
       " 'major': 'Commerce',\n",
       " 'number_of_classes': '36',\n",
       " 'school': 'McIntire',\n",
       " 'credits': '108',\n",
       " 'avg_start_salary': '62,905',\n",
       " 'application_based': 'True',\n",
       " 'graduation_honors_gpa': '3.8'}"
      ]
     },
     "execution_count": 51,
     "metadata": {},
     "output_type": "execute_result"
    }
   ],
   "source": [
    "cannon_major_2_dic = {}\n",
    "cannon_major_2 = majors.iloc[3]\n",
    "for i in range(len(cannon_major_1)):\n",
    "    cannon_major_2_dic[cannon_major_2.index[i]] = str(cannon_major_2[i])\n",
    "cannon_major_2_dic"
   ]
  },
  {
   "cell_type": "code",
   "execution_count": 52,
   "id": "8075ddd8",
   "metadata": {},
   "outputs": [
    {
     "data": {
      "text/html": [
       "<div>\n",
       "<style scoped>\n",
       "    .dataframe tbody tr th:only-of-type {\n",
       "        vertical-align: middle;\n",
       "    }\n",
       "\n",
       "    .dataframe tbody tr th {\n",
       "        vertical-align: top;\n",
       "    }\n",
       "\n",
       "    .dataframe thead th {\n",
       "        text-align: right;\n",
       "    }\n",
       "</style>\n",
       "<table border=\"1\" class=\"dataframe\">\n",
       "  <thead>\n",
       "    <tr style=\"text-align: right;\">\n",
       "      <th></th>\n",
       "      <th>id</th>\n",
       "      <th>town</th>\n",
       "      <th>county</th>\n",
       "      <th>state</th>\n",
       "      <th>country</th>\n",
       "      <th>population</th>\n",
       "      <th>zipcode</th>\n",
       "      <th>area_code</th>\n",
       "    </tr>\n",
       "  </thead>\n",
       "  <tbody>\n",
       "    <tr>\n",
       "      <th>0</th>\n",
       "      <td>1</td>\n",
       "      <td>Philadelphia</td>\n",
       "      <td>Philadelphia</td>\n",
       "      <td>Pennsylvania</td>\n",
       "      <td>USA</td>\n",
       "      <td>1579000</td>\n",
       "      <td>19019</td>\n",
       "      <td>215</td>\n",
       "    </tr>\n",
       "    <tr>\n",
       "      <th>1</th>\n",
       "      <td>2</td>\n",
       "      <td>Springfield</td>\n",
       "      <td>Fairfax</td>\n",
       "      <td>Virginia</td>\n",
       "      <td>USA</td>\n",
       "      <td>32222</td>\n",
       "      <td>22153</td>\n",
       "      <td>703</td>\n",
       "    </tr>\n",
       "    <tr>\n",
       "      <th>2</th>\n",
       "      <td>3</td>\n",
       "      <td>Reading</td>\n",
       "      <td>Berks</td>\n",
       "      <td>Pennsylvania</td>\n",
       "      <td>USA</td>\n",
       "      <td>88232</td>\n",
       "      <td>19601</td>\n",
       "      <td>671</td>\n",
       "    </tr>\n",
       "    <tr>\n",
       "      <th>3</th>\n",
       "      <td>4</td>\n",
       "      <td>Burke</td>\n",
       "      <td>Fairfax</td>\n",
       "      <td>Virginia</td>\n",
       "      <td>USA</td>\n",
       "      <td>41055</td>\n",
       "      <td>22015</td>\n",
       "      <td>703</td>\n",
       "    </tr>\n",
       "    <tr>\n",
       "      <th>4</th>\n",
       "      <td>5</td>\n",
       "      <td>Mt Olympus</td>\n",
       "      <td>NaN</td>\n",
       "      <td>NaN</td>\n",
       "      <td>Greece</td>\n",
       "      <td>7103</td>\n",
       "      <td>84109</td>\n",
       "      <td>344</td>\n",
       "    </tr>\n",
       "  </tbody>\n",
       "</table>\n",
       "</div>"
      ],
      "text/plain": [
       "   id          town        county         state country population  zipcode  \\\n",
       "0   1  Philadelphia  Philadelphia  Pennsylvania     USA    1579000    19019   \n",
       "1   2   Springfield       Fairfax      Virginia     USA      32222    22153   \n",
       "2   3       Reading         Berks  Pennsylvania     USA      88232    19601   \n",
       "3   4         Burke       Fairfax      Virginia     USA      41055    22015   \n",
       "4   5    Mt Olympus           NaN           NaN  Greece       7103    84109   \n",
       "\n",
       "   area_code  \n",
       "0        215  \n",
       "1        703  \n",
       "2        671  \n",
       "3        703  \n",
       "4        344  "
      ]
     },
     "execution_count": 52,
     "metadata": {},
     "output_type": "execute_result"
    }
   ],
   "source": [
    "towns.head()"
   ]
  },
  {
   "cell_type": "code",
   "execution_count": 53,
   "id": "6d28aef5",
   "metadata": {},
   "outputs": [
    {
     "data": {
      "text/plain": [
       "{'id': '1',\n",
       " 'town': 'Philadelphia',\n",
       " 'county': 'Philadelphia',\n",
       " 'state': 'Pennsylvania',\n",
       " 'country': 'USA',\n",
       " 'population': '1579000',\n",
       " 'zipcode': '19019',\n",
       " 'area_code': '215'}"
      ]
     },
     "execution_count": 53,
     "metadata": {},
     "output_type": "execute_result"
    }
   ],
   "source": [
    "cannon_hometown_dic = {}\n",
    "cannon_hometown = towns.iloc[0]\n",
    "for i in range(len(cannon_hometown)):\n",
    "    cannon_hometown_dic[cannon_hometown.index[i]] = str(cannon_hometown[i])\n",
    "cannon_hometown_dic"
   ]
  },
  {
   "cell_type": "code",
   "execution_count": 54,
   "id": "14691672",
   "metadata": {},
   "outputs": [
    {
     "data": {
      "text/html": [
       "<div>\n",
       "<style scoped>\n",
       "    .dataframe tbody tr th:only-of-type {\n",
       "        vertical-align: middle;\n",
       "    }\n",
       "\n",
       "    .dataframe tbody tr th {\n",
       "        vertical-align: top;\n",
       "    }\n",
       "\n",
       "    .dataframe thead th {\n",
       "        text-align: right;\n",
       "    }\n",
       "</style>\n",
       "<table border=\"1\" class=\"dataframe\">\n",
       "  <thead>\n",
       "    <tr style=\"text-align: right;\">\n",
       "      <th></th>\n",
       "      <th>id</th>\n",
       "      <th>hobbies</th>\n",
       "      <th>location</th>\n",
       "      <th>most_famous_person</th>\n",
       "      <th>skill_level_required</th>\n",
       "      <th>risk_factor</th>\n",
       "      <th>category</th>\n",
       "    </tr>\n",
       "  </thead>\n",
       "  <tbody>\n",
       "    <tr>\n",
       "      <th>0</th>\n",
       "      <td>1</td>\n",
       "      <td>Surfing</td>\n",
       "      <td>Beach</td>\n",
       "      <td>Shaun White</td>\n",
       "      <td>9</td>\n",
       "      <td>9</td>\n",
       "      <td>Sport</td>\n",
       "    </tr>\n",
       "    <tr>\n",
       "      <th>1</th>\n",
       "      <td>2</td>\n",
       "      <td>Frisbee golf</td>\n",
       "      <td>Forest</td>\n",
       "      <td>Paul McBeth</td>\n",
       "      <td>6</td>\n",
       "      <td>4</td>\n",
       "      <td>Sport</td>\n",
       "    </tr>\n",
       "    <tr>\n",
       "      <th>2</th>\n",
       "      <td>3</td>\n",
       "      <td>Board games</td>\n",
       "      <td>Home</td>\n",
       "      <td>Monopoly Man</td>\n",
       "      <td>3</td>\n",
       "      <td>2</td>\n",
       "      <td>Leisure</td>\n",
       "    </tr>\n",
       "    <tr>\n",
       "      <th>3</th>\n",
       "      <td>4</td>\n",
       "      <td>Eating</td>\n",
       "      <td>Anywhere</td>\n",
       "      <td>Guy Fieri</td>\n",
       "      <td>1</td>\n",
       "      <td>8</td>\n",
       "      <td>Leisure</td>\n",
       "    </tr>\n",
       "    <tr>\n",
       "      <th>4</th>\n",
       "      <td>5</td>\n",
       "      <td>Video games</td>\n",
       "      <td>Home</td>\n",
       "      <td>PewDiePie</td>\n",
       "      <td>5</td>\n",
       "      <td>2</td>\n",
       "      <td>Leisure</td>\n",
       "    </tr>\n",
       "  </tbody>\n",
       "</table>\n",
       "</div>"
      ],
      "text/plain": [
       "   id       hobbies  location most_famous_person  skill_level_required  \\\n",
       "0   1       Surfing     Beach        Shaun White                     9   \n",
       "1   2  Frisbee golf    Forest        Paul McBeth                     6   \n",
       "2   3  Board games       Home       Monopoly Man                     3   \n",
       "3   4        Eating  Anywhere          Guy Fieri                     1   \n",
       "4   5   Video games      Home          PewDiePie                     5   \n",
       "\n",
       "   risk_factor category  \n",
       "0            9    Sport  \n",
       "1            4    Sport  \n",
       "2            2  Leisure  \n",
       "3            8  Leisure  \n",
       "4            2  Leisure  "
      ]
     },
     "execution_count": 54,
     "metadata": {},
     "output_type": "execute_result"
    }
   ],
   "source": [
    "interests.head()"
   ]
  },
  {
   "cell_type": "code",
   "execution_count": 55,
   "id": "8abb8d6c",
   "metadata": {},
   "outputs": [
    {
     "data": {
      "text/plain": [
       "{'id': '1',\n",
       " 'hobbies': 'Surfing',\n",
       " 'location': 'Beach',\n",
       " 'most_famous_person': 'Shaun White',\n",
       " 'skill_level_required': '9',\n",
       " 'risk_factor': '9',\n",
       " 'category': 'Sport'}"
      ]
     },
     "execution_count": 55,
     "metadata": {},
     "output_type": "execute_result"
    }
   ],
   "source": [
    "cannon_interest_1_dic = {}\n",
    "cannon_interest_1 = interests.iloc[0]\n",
    "for i in range(len(cannon_interest_1)):\n",
    "    cannon_interest_1_dic[cannon_interest_1.index[i]] = str(cannon_interest_1[i])\n",
    "cannon_interest_1_dic"
   ]
  },
  {
   "cell_type": "code",
   "execution_count": 56,
   "id": "69473670",
   "metadata": {},
   "outputs": [
    {
     "data": {
      "text/plain": [
       "{'id': '8',\n",
       " 'hobbies': 'Skating',\n",
       " 'location': 'Skate Park',\n",
       " 'most_famous_person': 'Tony Hawk',\n",
       " 'skill_level_required': '8',\n",
       " 'risk_factor': '9',\n",
       " 'category': 'Sport'}"
      ]
     },
     "execution_count": 56,
     "metadata": {},
     "output_type": "execute_result"
    }
   ],
   "source": [
    "cannon_interest_2_dic = {}\n",
    "cannon_interest_2 = interests.iloc[7]\n",
    "for i in range(len(cannon_interest_2)):\n",
    "    cannon_interest_2_dic[cannon_interest_2.index[i]] = str(cannon_interest_2[i])\n",
    "cannon_interest_2_dic"
   ]
  },
  {
   "cell_type": "code",
   "execution_count": 57,
   "id": "fd24ab1e",
   "metadata": {},
   "outputs": [
    {
     "data": {
      "text/plain": [
       "{'id': '24',\n",
       " 'name': 'Hippo Campus',\n",
       " 'monthly_listens': '2744585',\n",
       " 'hometown_id': 'Saint Paul',\n",
       " 'age': '27',\n",
       " 'net_worth': '21,000,000',\n",
       " 'most_popular_song': 'Buttercup',\n",
       " 'interest_id': 'Skating'}"
      ]
     },
     "execution_count": 57,
     "metadata": {},
     "output_type": "execute_result"
    }
   ],
   "source": [
    "cannon_artist_dic = {}\n",
    "cannon_artist = artists.iloc[22]\n",
    "for i in range(len(cannon_artist)):\n",
    "    cannon_artist_dic[cannon_artist.index[i]] = str(cannon_artist[i])\n",
    "cannon_artist_dic"
   ]
  },
  {
   "cell_type": "code",
   "execution_count": 58,
   "id": "c71855ee",
   "metadata": {},
   "outputs": [
    {
     "data": {
      "text/plain": [
       "{'id': '2',\n",
       " 'first_name': 'Cannon',\n",
       " 'last_name': 'Johns',\n",
       " 'graduation_year': '2024',\n",
       " 'age': '18',\n",
       " 'number_of_family_members': '3',\n",
       " 'fav_color': 'blue',\n",
       " 'fav_animal': 'giraffe',\n",
       " 'fav_tv_show': 'Arrested Development',\n",
       " 'fav_movie': 'Star Wars',\n",
       " 'beach_or_mtns': 'beach',\n",
       " 'fav_icecream': 'salted caramel',\n",
       " 'hometown_id': 'Philadelphia',\n",
       " 'major': 'Computer Science (BA)',\n",
       " 'second_major': 'Commerce',\n",
       " 'minor': 'nan',\n",
       " 'favorite_hobby_id': 'Surfing',\n",
       " 'second_favorite_hobby_id': 'Skating',\n",
       " 'fav_artist_id': 'Hippo Campus'}"
      ]
     },
     "execution_count": 58,
     "metadata": {},
     "output_type": "execute_result"
    }
   ],
   "source": [
    "nest = {}\n",
    "for i in range(len(cannon)):\n",
    "    nest[cannon.index[i]] = str(cannon[i])\n",
    "nest"
   ]
  },
  {
   "cell_type": "code",
   "execution_count": 59,
   "id": "7f9ab4c3",
   "metadata": {},
   "outputs": [],
   "source": [
    "nest['major'] = cannon_major_1_dic"
   ]
  },
  {
   "cell_type": "code",
   "execution_count": 60,
   "id": "d4b56ebf",
   "metadata": {},
   "outputs": [
    {
     "data": {
      "text/plain": [
       "{'id': '2',\n",
       " 'first_name': 'Cannon',\n",
       " 'last_name': 'Johns',\n",
       " 'graduation_year': '2024',\n",
       " 'age': '18',\n",
       " 'number_of_family_members': '3',\n",
       " 'fav_color': 'blue',\n",
       " 'fav_animal': 'giraffe',\n",
       " 'fav_tv_show': 'Arrested Development',\n",
       " 'fav_movie': 'Star Wars',\n",
       " 'beach_or_mtns': 'beach',\n",
       " 'fav_icecream': 'salted caramel',\n",
       " 'hometown_id': 'Philadelphia',\n",
       " 'major': {'id': '2',\n",
       "  'major': 'Computer Science (BA)',\n",
       "  'number_of_classes': '38',\n",
       "  'school': 'Arts and Sciences',\n",
       "  'credits': '112',\n",
       "  'avg_start_salary': '68,600',\n",
       "  'application_based': 'False',\n",
       "  'graduation_honors_gpa': '3.6'},\n",
       " 'second_major': 'Commerce',\n",
       " 'minor': 'nan',\n",
       " 'favorite_hobby_id': 'Surfing',\n",
       " 'second_favorite_hobby_id': 'Skating',\n",
       " 'fav_artist_id': 'Hippo Campus'}"
      ]
     },
     "execution_count": 60,
     "metadata": {},
     "output_type": "execute_result"
    }
   ],
   "source": [
    "nest"
   ]
  },
  {
   "cell_type": "code",
   "execution_count": 61,
   "id": "a4a25101",
   "metadata": {},
   "outputs": [],
   "source": [
    "nest['second_major'] = cannon_major_2_dic\n",
    "nest['hometown_id'] = cannon_hometown_dic\n",
    "nest['favorite_hobby_id'] = cannon_interest_1_dic\n",
    "nest['second_favorite_hobby_id'] = cannon_interest_2_dic\n",
    "nest['fav_artist_id'] = cannon_artist_dic"
   ]
  },
  {
   "cell_type": "code",
   "execution_count": 62,
   "id": "e3dae961",
   "metadata": {},
   "outputs": [
    {
     "data": {
      "text/plain": [
       "{'id': '2',\n",
       " 'first_name': 'Cannon',\n",
       " 'last_name': 'Johns',\n",
       " 'graduation_year': '2024',\n",
       " 'age': '18',\n",
       " 'number_of_family_members': '3',\n",
       " 'fav_color': 'blue',\n",
       " 'fav_animal': 'giraffe',\n",
       " 'fav_tv_show': 'Arrested Development',\n",
       " 'fav_movie': 'Star Wars',\n",
       " 'beach_or_mtns': 'beach',\n",
       " 'fav_icecream': 'salted caramel',\n",
       " 'hometown_id': {'id': '1',\n",
       "  'town': 'Philadelphia',\n",
       "  'county': 'Philadelphia',\n",
       "  'state': 'Pennsylvania',\n",
       "  'country': 'USA',\n",
       "  'population': '1579000',\n",
       "  'zipcode': '19019',\n",
       "  'area_code': '215'},\n",
       " 'major': {'id': '2',\n",
       "  'major': 'Computer Science (BA)',\n",
       "  'number_of_classes': '38',\n",
       "  'school': 'Arts and Sciences',\n",
       "  'credits': '112',\n",
       "  'avg_start_salary': '68,600',\n",
       "  'application_based': 'False',\n",
       "  'graduation_honors_gpa': '3.6'},\n",
       " 'second_major': {'id': '4',\n",
       "  'major': 'Commerce',\n",
       "  'number_of_classes': '36',\n",
       "  'school': 'McIntire',\n",
       "  'credits': '108',\n",
       "  'avg_start_salary': '62,905',\n",
       "  'application_based': 'True',\n",
       "  'graduation_honors_gpa': '3.8'},\n",
       " 'minor': 'nan',\n",
       " 'favorite_hobby_id': {'id': '1',\n",
       "  'hobbies': 'Surfing',\n",
       "  'location': 'Beach',\n",
       "  'most_famous_person': 'Shaun White',\n",
       "  'skill_level_required': '9',\n",
       "  'risk_factor': '9',\n",
       "  'category': 'Sport'},\n",
       " 'second_favorite_hobby_id': {'id': '8',\n",
       "  'hobbies': 'Skating',\n",
       "  'location': 'Skate Park',\n",
       "  'most_famous_person': 'Tony Hawk',\n",
       "  'skill_level_required': '8',\n",
       "  'risk_factor': '9',\n",
       "  'category': 'Sport'},\n",
       " 'fav_artist_id': {'id': '24',\n",
       "  'name': 'Hippo Campus',\n",
       "  'monthly_listens': '2744585',\n",
       "  'hometown_id': 'Saint Paul',\n",
       "  'age': '27',\n",
       "  'net_worth': '21,000,000',\n",
       "  'most_popular_song': 'Buttercup',\n",
       "  'interest_id': 'Skating'}}"
      ]
     },
     "execution_count": 62,
     "metadata": {},
     "output_type": "execute_result"
    }
   ],
   "source": [
    "nest"
   ]
  },
  {
   "cell_type": "code",
   "execution_count": 63,
   "id": "b5653888",
   "metadata": {},
   "outputs": [
    {
     "data": {
      "text/plain": [
       "<pymongo.results.InsertOneResult at 0x1e7b8587280>"
      ]
     },
     "execution_count": 63,
     "metadata": {},
     "output_type": "execute_result"
    }
   ],
   "source": [
    "collection.insert_one(nest)"
   ]
  },
  {
   "cell_type": "code",
   "execution_count": null,
   "id": "1dfcc34b",
   "metadata": {},
   "outputs": [],
   "source": []
  }
 ],
 "metadata": {
  "kernelspec": {
   "display_name": "Python 3",
   "language": "python",
   "name": "python3"
  },
  "language_info": {
   "codemirror_mode": {
    "name": "ipython",
    "version": 3
   },
   "file_extension": ".py",
   "mimetype": "text/x-python",
   "name": "python",
   "nbconvert_exporter": "python",
   "pygments_lexer": "ipython3",
   "version": "3.8.3"
  }
 },
 "nbformat": 4,
 "nbformat_minor": 5
}
