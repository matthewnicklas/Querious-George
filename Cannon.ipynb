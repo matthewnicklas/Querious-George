{
 "cells": [
  {
   "cell_type": "code",
   "execution_count": 1,
   "id": "00f5979a",
   "metadata": {},
   "outputs": [
    {
     "name": "stdout",
     "output_type": "stream",
     "text": [
      "Requirement already satisfied: pymongo in c:\\users\\student\\anaconda3\\lib\\site-packages (3.11.4)\n"
     ]
    }
   ],
   "source": [
    "!pip install pymongo\n",
    "import pandas as pd\n",
    "import pymongo\n",
    "from pymongo import MongoClient"
   ]
  },
  {
   "cell_type": "code",
   "execution_count": 2,
   "id": "eea6cb1e",
   "metadata": {},
   "outputs": [],
   "source": [
    "client = MongoClient('localhost', 27017)"
   ]
  },
  {
   "cell_type": "code",
   "execution_count": 3,
   "id": "a46614b3",
   "metadata": {},
   "outputs": [
    {
     "data": {
      "text/plain": [
       "MongoClient(host=['localhost:27017'], document_class=dict, tz_aware=False, connect=True)"
      ]
     },
     "execution_count": 3,
     "metadata": {},
     "output_type": "execute_result"
    }
   ],
   "source": [
    "client"
   ]
  },
  {
   "cell_type": "code",
   "execution_count": 4,
   "id": "6e6f71f3",
   "metadata": {},
   "outputs": [],
   "source": [
    "db = client.Cannon"
   ]
  },
  {
   "cell_type": "code",
   "execution_count": null,
   "id": "b42a0431",
   "metadata": {},
   "outputs": [],
   "source": [
    "people = pd.read_csv(\"Project \\ 2\\\")"
   ]
  }
 ],
 "metadata": {
  "kernelspec": {
   "display_name": "Python 3",
   "language": "python",
   "name": "python3"
  },
  "language_info": {
   "codemirror_mode": {
    "name": "ipython",
    "version": 3
   },
   "file_extension": ".py",
   "mimetype": "text/x-python",
   "name": "python",
   "nbconvert_exporter": "python",
   "pygments_lexer": "ipython3",
   "version": "3.8.3"
  }
 },
 "nbformat": 4,
 "nbformat_minor": 5
}
