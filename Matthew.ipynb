{
 "cells": [
  {
   "cell_type": "code",
   "execution_count": 1,
   "metadata": {},
   "outputs": [
    {
     "name": "stdout",
     "output_type": "stream",
     "text": [
      "Collecting pymongo\n",
      "  Downloading pymongo-3.11.4-cp38-cp38-win_amd64.whl (383 kB)\n",
      "Installing collected packages: pymongo\n",
      "Successfully installed pymongo-3.11.4\n"
     ]
    }
   ],
   "source": [
    "!pip install pymongo\n",
    "import pandas as pd\n",
    "import pymongo\n",
    "from pymongo import MongoClient"
   ]
  },
  {
   "cell_type": "code",
   "execution_count": 13,
   "metadata": {},
   "outputs": [],
   "source": [
    "client = MongoClient('localhost', 27017)"
   ]
  },
  {
   "cell_type": "code",
   "execution_count": 14,
   "metadata": {},
   "outputs": [],
   "source": [
    "db = client.Matthew #Create a database called \"Matthew\""
   ]
  },
  {
   "cell_type": "code",
   "execution_count": 17,
   "metadata": {},
   "outputs": [
    {
     "data": {
      "text/plain": [
       "Database(MongoClient(host=['localhost:27017'], document_class=dict, tz_aware=False, connect=True), 'Matthew')"
      ]
     },
     "execution_count": 17,
     "metadata": {},
     "output_type": "execute_result"
    }
   ],
   "source": [
    "#Create the \"people\" collection\n",
    "collection = db.people\n",
    "db"
   ]
  },
  {
   "cell_type": "code",
   "execution_count": 16,
   "metadata": {},
   "outputs": [
    {
     "name": "stdout",
     "output_type": "stream",
     "text": [
      "hi\n"
     ]
    }
   ],
   "source": [
    "print(\"hi\")"
   ]
  },
  {
   "cell_type": "code",
   "execution_count": 20,
   "metadata": {},
   "outputs": [],
   "source": [
    "#Read in all the csv files from my local repo\n",
    "people = pd.read_csv(\"Project_2_Data/People.csv\")\n",
    "artists = pd.read_csv(\"Project_2_Data/Artists.csv\")\n",
    "interests = pd.read_csv(\"Project_2_Data/Interests.csv\")\n",
    "majors = pd.read_csv(\"Project_2_Data/Majors.csv\")\n",
    "music = pd.read_csv(\"Project_2_Data/Music.csv\")\n",
    "towns = pd.read_csv(\"Project_2_Data/Towns.csv\")"
   ]
  },
  {
   "cell_type": "code",
   "execution_count": 11,
   "metadata": {},
   "outputs": [],
   "source": [
    "matthew = people.iloc[0]"
   ]
  },
  {
   "cell_type": "code",
   "execution_count": 12,
   "metadata": {},
   "outputs": [
    {
     "data": {
      "text/plain": [
       "id                                                  1\n",
       "first_name                                       Matt\n",
       "last_name                                     Nicklas\n",
       "graduation_year                                  2018\n",
       "age                                                25\n",
       "number_of_family_members                            3\n",
       "fav_color                                        blue\n",
       "fav_animal                                      shark\n",
       "fav_tv_show                                    Dexter\n",
       "fav_movie                                 Dark Knight\n",
       "beach_or_mtns                                   beach\n",
       "fav_icecream                             cookie dough\n",
       "hometown_id                               Springfield\n",
       "major                          Mechanical Engineering\n",
       "second_major                                      NaN\n",
       "minor                       Environmental Engineering\n",
       "favorite_hobby_id                         Board games\n",
       "second_favorite_hobby_id                 Frisbee golf\n",
       "fav_artist_id                                Coldplay\n",
       "Name: 0, dtype: object"
      ]
     },
     "execution_count": 12,
     "metadata": {},
     "output_type": "execute_result"
    }
   ],
   "source": [
    "matthew"
   ]
  },
  {
   "cell_type": "code",
   "execution_count": 19,
   "metadata": {},
   "outputs": [
    {
     "data": {
      "text/html": [
       "<div>\n",
       "<style scoped>\n",
       "    .dataframe tbody tr th:only-of-type {\n",
       "        vertical-align: middle;\n",
       "    }\n",
       "\n",
       "    .dataframe tbody tr th {\n",
       "        vertical-align: top;\n",
       "    }\n",
       "\n",
       "    .dataframe thead th {\n",
       "        text-align: right;\n",
       "    }\n",
       "</style>\n",
       "<table border=\"1\" class=\"dataframe\">\n",
       "  <thead>\n",
       "    <tr style=\"text-align: right;\">\n",
       "      <th></th>\n",
       "      <th>id</th>\n",
       "      <th>first_name</th>\n",
       "      <th>last_name</th>\n",
       "      <th>graduation_year</th>\n",
       "      <th>age</th>\n",
       "      <th>number_of_family_members</th>\n",
       "      <th>fav_color</th>\n",
       "      <th>fav_animal</th>\n",
       "      <th>fav_tv_show</th>\n",
       "      <th>fav_movie</th>\n",
       "      <th>beach_or_mtns</th>\n",
       "      <th>fav_icecream</th>\n",
       "      <th>hometown_id</th>\n",
       "      <th>major</th>\n",
       "      <th>second_major</th>\n",
       "      <th>minor</th>\n",
       "      <th>favorite_hobby_id</th>\n",
       "      <th>second_favorite_hobby_id</th>\n",
       "      <th>fav_artist_id</th>\n",
       "    </tr>\n",
       "  </thead>\n",
       "  <tbody>\n",
       "    <tr>\n",
       "      <th>0</th>\n",
       "      <td>1</td>\n",
       "      <td>Matt</td>\n",
       "      <td>Nicklas</td>\n",
       "      <td>2018</td>\n",
       "      <td>25</td>\n",
       "      <td>3</td>\n",
       "      <td>blue</td>\n",
       "      <td>shark</td>\n",
       "      <td>Dexter</td>\n",
       "      <td>Dark Knight</td>\n",
       "      <td>beach</td>\n",
       "      <td>cookie dough</td>\n",
       "      <td>Springfield</td>\n",
       "      <td>Mechanical Engineering</td>\n",
       "      <td>NaN</td>\n",
       "      <td>Environmental Engineering</td>\n",
       "      <td>Board games</td>\n",
       "      <td>Frisbee golf</td>\n",
       "      <td>Coldplay</td>\n",
       "    </tr>\n",
       "    <tr>\n",
       "      <th>1</th>\n",
       "      <td>2</td>\n",
       "      <td>Cannon</td>\n",
       "      <td>Johns</td>\n",
       "      <td>2024</td>\n",
       "      <td>18</td>\n",
       "      <td>3</td>\n",
       "      <td>blue</td>\n",
       "      <td>giraffe</td>\n",
       "      <td>Arrested Development</td>\n",
       "      <td>Star Wars</td>\n",
       "      <td>beach</td>\n",
       "      <td>salted caramel</td>\n",
       "      <td>Philadelphia</td>\n",
       "      <td>Computer Science (BA)</td>\n",
       "      <td>Commerce</td>\n",
       "      <td>NaN</td>\n",
       "      <td>Surfing</td>\n",
       "      <td>Skating</td>\n",
       "      <td>Hippo Campus</td>\n",
       "    </tr>\n",
       "    <tr>\n",
       "      <th>2</th>\n",
       "      <td>3</td>\n",
       "      <td>Serene</td>\n",
       "      <td>Lu</td>\n",
       "      <td>2024</td>\n",
       "      <td>19</td>\n",
       "      <td>5</td>\n",
       "      <td>blue</td>\n",
       "      <td>bunny</td>\n",
       "      <td>New Girl</td>\n",
       "      <td>Inception</td>\n",
       "      <td>beach</td>\n",
       "      <td>cookies n' cream</td>\n",
       "      <td>Burke</td>\n",
       "      <td>Computer Science (BA)</td>\n",
       "      <td>Statistics</td>\n",
       "      <td>NaN</td>\n",
       "      <td>Playing guitar</td>\n",
       "      <td>Sleeping</td>\n",
       "      <td>Giveon</td>\n",
       "    </tr>\n",
       "    <tr>\n",
       "      <th>3</th>\n",
       "      <td>4</td>\n",
       "      <td>Aayushma</td>\n",
       "      <td>Bastola</td>\n",
       "      <td>2023</td>\n",
       "      <td>20</td>\n",
       "      <td>3</td>\n",
       "      <td>green</td>\n",
       "      <td>elephant</td>\n",
       "      <td>Fleabag</td>\n",
       "      <td>Get Out</td>\n",
       "      <td>mountains</td>\n",
       "      <td>coffee</td>\n",
       "      <td>Fairfax</td>\n",
       "      <td>Commerce</td>\n",
       "      <td>Public Policy and Leadership</td>\n",
       "      <td>NaN</td>\n",
       "      <td>Singing</td>\n",
       "      <td>Eating</td>\n",
       "      <td>Taylor Swift</td>\n",
       "    </tr>\n",
       "  </tbody>\n",
       "</table>\n",
       "</div>"
      ],
      "text/plain": [
       "   id first_name last_name  graduation_year  age  number_of_family_members  \\\n",
       "0   1       Matt   Nicklas             2018   25                         3   \n",
       "1   2     Cannon     Johns             2024   18                         3   \n",
       "2   3     Serene        Lu             2024   19                         5   \n",
       "3   4   Aayushma   Bastola             2023   20                         3   \n",
       "\n",
       "  fav_color fav_animal           fav_tv_show    fav_movie beach_or_mtns  \\\n",
       "0      blue      shark                Dexter  Dark Knight         beach   \n",
       "1      blue    giraffe  Arrested Development    Star Wars         beach   \n",
       "2      blue      bunny              New Girl    Inception         beach   \n",
       "3     green   elephant               Fleabag      Get Out     mountains   \n",
       "\n",
       "       fav_icecream   hometown_id                   major  \\\n",
       "0      cookie dough   Springfield  Mechanical Engineering   \n",
       "1    salted caramel  Philadelphia   Computer Science (BA)   \n",
       "2  cookies n' cream         Burke   Computer Science (BA)   \n",
       "3            coffee       Fairfax                Commerce   \n",
       "\n",
       "                   second_major                      minor favorite_hobby_id  \\\n",
       "0                           NaN  Environmental Engineering       Board games   \n",
       "1                      Commerce                        NaN           Surfing   \n",
       "2                    Statistics                        NaN    Playing guitar   \n",
       "3  Public Policy and Leadership                        NaN           Singing   \n",
       "\n",
       "  second_favorite_hobby_id fav_artist_id  \n",
       "0             Frisbee golf      Coldplay  \n",
       "1                  Skating  Hippo Campus  \n",
       "2                 Sleeping        Giveon  \n",
       "3                   Eating  Taylor Swift  "
      ]
     },
     "execution_count": 19,
     "metadata": {},
     "output_type": "execute_result"
    }
   ],
   "source": [
    "people.head()"
   ]
  },
  {
   "cell_type": "code",
   "execution_count": 24,
   "metadata": {},
   "outputs": [],
   "source": [
    "#Creating Dictionary for Matt's major\n",
    "matthew_major_1_dic = {}\n",
    "matthew_major_1 = majors.iloc[0]\n",
    "for i in range(len(matthew_major_1)):\n",
    "    matthew_major_1_dic[matthew_major_1.index[i]] = str(matthew_major_1[i])"
   ]
  },
  {
   "cell_type": "code",
   "execution_count": 25,
   "metadata": {},
   "outputs": [
    {
     "data": {
      "text/plain": [
       "{'id': '1',\n",
       " 'major': 'Mechanical Engineering',\n",
       " 'number_of_classes': '40',\n",
       " 'school': 'Engineering',\n",
       " 'credits': '115',\n",
       " 'avg_start_salary': '60,000',\n",
       " 'application_based': 'False',\n",
       " 'graduation_honors_gpa': '3.4'}"
      ]
     },
     "execution_count": 25,
     "metadata": {},
     "output_type": "execute_result"
    }
   ],
   "source": [
    "matthew_major_1_dic"
   ]
  },
  {
   "cell_type": "code",
   "execution_count": 28,
   "metadata": {},
   "outputs": [
    {
     "data": {
      "text/plain": [
       "{}"
      ]
     },
     "execution_count": 28,
     "metadata": {},
     "output_type": "execute_result"
    }
   ],
   "source": [
    "#Creating Dictionary for Matt's major\n",
    "matthew_major_2_dic = {}\n",
    "matthew_major_2_dic"
   ]
  },
  {
   "cell_type": "code",
   "execution_count": 29,
   "metadata": {},
   "outputs": [],
   "source": [
    "#Creating Dictionary for Matt's hometown\n",
    "matthew_hometown_dic = {}\n",
    "matthew_hometown = towns.iloc[1]\n",
    "for i in range(len(matthew_hometown)):\n",
    "    matthew_hometown_dic[matthew_hometown.index[i]] = str(matthew_hometown[i])"
   ]
  },
  {
   "cell_type": "code",
   "execution_count": 30,
   "metadata": {},
   "outputs": [
    {
     "data": {
      "text/plain": [
       "{'id': '2',\n",
       " 'town': 'Springfield',\n",
       " 'county': 'Fairfax',\n",
       " 'state': 'Virginia',\n",
       " 'country': 'USA',\n",
       " 'population': '32222',\n",
       " 'zipcode': '22153',\n",
       " 'area_code': '703'}"
      ]
     },
     "execution_count": 30,
     "metadata": {},
     "output_type": "execute_result"
    }
   ],
   "source": [
    "matthew_hometown_dic"
   ]
  },
  {
   "cell_type": "code",
   "execution_count": 31,
   "metadata": {},
   "outputs": [
    {
     "data": {
      "text/html": [
       "<div>\n",
       "<style scoped>\n",
       "    .dataframe tbody tr th:only-of-type {\n",
       "        vertical-align: middle;\n",
       "    }\n",
       "\n",
       "    .dataframe tbody tr th {\n",
       "        vertical-align: top;\n",
       "    }\n",
       "\n",
       "    .dataframe thead th {\n",
       "        text-align: right;\n",
       "    }\n",
       "</style>\n",
       "<table border=\"1\" class=\"dataframe\">\n",
       "  <thead>\n",
       "    <tr style=\"text-align: right;\">\n",
       "      <th></th>\n",
       "      <th>id</th>\n",
       "      <th>hobbies</th>\n",
       "      <th>location</th>\n",
       "      <th>most_famous_person</th>\n",
       "      <th>skill_level_required</th>\n",
       "      <th>risk_factor</th>\n",
       "      <th>category</th>\n",
       "    </tr>\n",
       "  </thead>\n",
       "  <tbody>\n",
       "    <tr>\n",
       "      <th>0</th>\n",
       "      <td>1</td>\n",
       "      <td>Surfing</td>\n",
       "      <td>Beach</td>\n",
       "      <td>Shaun White</td>\n",
       "      <td>9</td>\n",
       "      <td>9</td>\n",
       "      <td>Sport</td>\n",
       "    </tr>\n",
       "    <tr>\n",
       "      <th>1</th>\n",
       "      <td>2</td>\n",
       "      <td>Frisbee golf</td>\n",
       "      <td>Forest</td>\n",
       "      <td>Paul McBeth</td>\n",
       "      <td>6</td>\n",
       "      <td>4</td>\n",
       "      <td>Sport</td>\n",
       "    </tr>\n",
       "    <tr>\n",
       "      <th>2</th>\n",
       "      <td>3</td>\n",
       "      <td>Board games</td>\n",
       "      <td>Home</td>\n",
       "      <td>Monopoly Man</td>\n",
       "      <td>3</td>\n",
       "      <td>2</td>\n",
       "      <td>Leisure</td>\n",
       "    </tr>\n",
       "    <tr>\n",
       "      <th>3</th>\n",
       "      <td>4</td>\n",
       "      <td>Eating</td>\n",
       "      <td>Anywhere</td>\n",
       "      <td>Guy Fieri</td>\n",
       "      <td>1</td>\n",
       "      <td>8</td>\n",
       "      <td>Leisure</td>\n",
       "    </tr>\n",
       "    <tr>\n",
       "      <th>4</th>\n",
       "      <td>5</td>\n",
       "      <td>Video games</td>\n",
       "      <td>Home</td>\n",
       "      <td>PewDiePie</td>\n",
       "      <td>5</td>\n",
       "      <td>2</td>\n",
       "      <td>Leisure</td>\n",
       "    </tr>\n",
       "  </tbody>\n",
       "</table>\n",
       "</div>"
      ],
      "text/plain": [
       "   id       hobbies  location most_famous_person  skill_level_required  \\\n",
       "0   1       Surfing     Beach        Shaun White                     9   \n",
       "1   2  Frisbee golf    Forest        Paul McBeth                     6   \n",
       "2   3  Board games       Home       Monopoly Man                     3   \n",
       "3   4        Eating  Anywhere          Guy Fieri                     1   \n",
       "4   5   Video games      Home          PewDiePie                     5   \n",
       "\n",
       "   risk_factor category  \n",
       "0            9    Sport  \n",
       "1            4    Sport  \n",
       "2            2  Leisure  \n",
       "3            8  Leisure  \n",
       "4            2  Leisure  "
      ]
     },
     "execution_count": 31,
     "metadata": {},
     "output_type": "execute_result"
    }
   ],
   "source": [
    "interests.head()"
   ]
  },
  {
   "cell_type": "code",
   "execution_count": 35,
   "metadata": {},
   "outputs": [],
   "source": [
    "#Creating Dictionary for Matt's interests\n",
    "matthew_interest_dic = {}\n",
    "matthew_interest = interests.iloc[2]\n",
    "for i in range(len(matthew_interest)):\n",
    "    matthew_interest_dic[matthew_interest.index[i]] = str(matthew_interest[i])\n",
    "    \n",
    "#Creating Dictionary for Matt's interests\n",
    "matthew_interest_2_dic = {}\n",
    "matthew_interest_2 = interests.iloc[1]\n",
    "for i in range(len(matthew_interest_2)):\n",
    "    matthew_interest_2_dic[matthew_interest_2.index[i]] = str(matthew_interest_2[i])"
   ]
  },
  {
   "cell_type": "code",
   "execution_count": 37,
   "metadata": {},
   "outputs": [
    {
     "data": {
      "text/plain": [
       "{'id': '3',\n",
       " 'hobbies': 'Board games ',\n",
       " 'location': 'Home',\n",
       " 'most_famous_person': 'Monopoly Man',\n",
       " 'skill_level_required': '3',\n",
       " 'risk_factor': '2',\n",
       " 'category': 'Leisure'}"
      ]
     },
     "execution_count": 37,
     "metadata": {},
     "output_type": "execute_result"
    }
   ],
   "source": [
    "matthew_interest_dic"
   ]
  },
  {
   "cell_type": "code",
   "execution_count": 38,
   "metadata": {},
   "outputs": [
    {
     "data": {
      "text/plain": [
       "{'id': '2',\n",
       " 'hobbies': 'Frisbee golf',\n",
       " 'location': 'Forest',\n",
       " 'most_famous_person': 'Paul McBeth',\n",
       " 'skill_level_required': '6',\n",
       " 'risk_factor': '4',\n",
       " 'category': 'Sport'}"
      ]
     },
     "execution_count": 38,
     "metadata": {},
     "output_type": "execute_result"
    }
   ],
   "source": [
    "matthew_interest_2_dic"
   ]
  },
  {
   "cell_type": "code",
   "execution_count": 40,
   "metadata": {},
   "outputs": [
    {
     "data": {
      "text/html": [
       "<div>\n",
       "<style scoped>\n",
       "    .dataframe tbody tr th:only-of-type {\n",
       "        vertical-align: middle;\n",
       "    }\n",
       "\n",
       "    .dataframe tbody tr th {\n",
       "        vertical-align: top;\n",
       "    }\n",
       "\n",
       "    .dataframe thead th {\n",
       "        text-align: right;\n",
       "    }\n",
       "</style>\n",
       "<table border=\"1\" class=\"dataframe\">\n",
       "  <thead>\n",
       "    <tr style=\"text-align: right;\">\n",
       "      <th></th>\n",
       "      <th>id</th>\n",
       "      <th>name</th>\n",
       "      <th>monthly_listens</th>\n",
       "      <th>hometown_id</th>\n",
       "      <th>age</th>\n",
       "      <th>net_worth</th>\n",
       "      <th>most_popular_song</th>\n",
       "      <th>interest_id</th>\n",
       "    </tr>\n",
       "  </thead>\n",
       "  <tbody>\n",
       "    <tr>\n",
       "      <th>0</th>\n",
       "      <td>1</td>\n",
       "      <td>Taylor Swift</td>\n",
       "      <td>42961049</td>\n",
       "      <td>Reading</td>\n",
       "      <td>31</td>\n",
       "      <td>400,000,000</td>\n",
       "      <td>Shake It Off</td>\n",
       "      <td>Playing guitar</td>\n",
       "    </tr>\n",
       "    <tr>\n",
       "      <th>1</th>\n",
       "      <td>2</td>\n",
       "      <td>HAIM</td>\n",
       "      <td>5493993</td>\n",
       "      <td>Los Angeles</td>\n",
       "      <td>35</td>\n",
       "      <td>5,000,000</td>\n",
       "      <td>The Wire</td>\n",
       "      <td>Playing guitar</td>\n",
       "    </tr>\n",
       "    <tr>\n",
       "      <th>2</th>\n",
       "      <td>3</td>\n",
       "      <td>Amy Winehouse</td>\n",
       "      <td>11016435</td>\n",
       "      <td>London</td>\n",
       "      <td>27</td>\n",
       "      <td>5,000,000</td>\n",
       "      <td>Back to Black</td>\n",
       "      <td>Playing guitar</td>\n",
       "    </tr>\n",
       "    <tr>\n",
       "      <th>3</th>\n",
       "      <td>4</td>\n",
       "      <td>Florence + the Machine</td>\n",
       "      <td>10407322</td>\n",
       "      <td>London</td>\n",
       "      <td>34</td>\n",
       "      <td>28,000,000</td>\n",
       "      <td>Dog Days are Over</td>\n",
       "      <td>Reading</td>\n",
       "    </tr>\n",
       "    <tr>\n",
       "      <th>4</th>\n",
       "      <td>5</td>\n",
       "      <td>Chase Atlantic</td>\n",
       "      <td>6279620</td>\n",
       "      <td>Cairns</td>\n",
       "      <td>24</td>\n",
       "      <td>7,300,000</td>\n",
       "      <td>Friends</td>\n",
       "      <td>Skating</td>\n",
       "    </tr>\n",
       "  </tbody>\n",
       "</table>\n",
       "</div>"
      ],
      "text/plain": [
       "   id                    name  monthly_listens  hometown_id  age    net_worth  \\\n",
       "0   1            Taylor Swift         42961049      Reading   31  400,000,000   \n",
       "1   2                    HAIM          5493993  Los Angeles   35    5,000,000   \n",
       "2   3           Amy Winehouse         11016435       London   27    5,000,000   \n",
       "3   4  Florence + the Machine         10407322       London   34   28,000,000   \n",
       "4   5          Chase Atlantic          6279620       Cairns   24    7,300,000   \n",
       "\n",
       "   most_popular_song     interest_id  \n",
       "0       Shake It Off  Playing guitar  \n",
       "1           The Wire  Playing guitar  \n",
       "2      Back to Black  Playing guitar  \n",
       "3  Dog Days are Over         Reading  \n",
       "4            Friends         Skating  "
      ]
     },
     "execution_count": 40,
     "metadata": {},
     "output_type": "execute_result"
    }
   ],
   "source": [
    "artists.head()"
   ]
  },
  {
   "cell_type": "code",
   "execution_count": 47,
   "metadata": {},
   "outputs": [],
   "source": [
    "#Creating Dictionary for Matt's favorite artist \n",
    "matthew_artist_dic = {}\n",
    "matthew_artist = artists.iloc[29]\n",
    "for i in range(len(matthew_artist)):\n",
    "    matthew_artist_dic[matthew_artist.index[i]] = str(matthew_artist[i])"
   ]
  },
  {
   "cell_type": "code",
   "execution_count": 48,
   "metadata": {},
   "outputs": [
    {
     "data": {
      "text/plain": [
       "{'id': '31',\n",
       " 'name': 'Coldplay',\n",
       " 'monthly_listens': '45445380',\n",
       " 'hometown_id': 'London',\n",
       " 'age': '44',\n",
       " 'net_worth': '475,000,000',\n",
       " 'most_popular_song': 'Something Just Like This',\n",
       " 'interest_id': 'Frisbee golf'}"
      ]
     },
     "execution_count": 48,
     "metadata": {},
     "output_type": "execute_result"
    }
   ],
   "source": [
    "matthew_artist_dic"
   ]
  },
  {
   "cell_type": "code",
   "execution_count": 49,
   "metadata": {},
   "outputs": [
    {
     "data": {
      "text/plain": [
       "{'id': '1',\n",
       " 'first_name': 'Matt',\n",
       " 'last_name': 'Nicklas',\n",
       " 'graduation_year': '2018',\n",
       " 'age': '25',\n",
       " 'number_of_family_members': '3',\n",
       " 'fav_color': 'blue',\n",
       " 'fav_animal': 'shark',\n",
       " 'fav_tv_show': 'Dexter',\n",
       " 'fav_movie': 'Dark Knight',\n",
       " 'beach_or_mtns': 'beach',\n",
       " 'fav_icecream': 'cookie dough',\n",
       " 'hometown_id': 'Springfield',\n",
       " 'major': 'Mechanical Engineering',\n",
       " 'second_major': 'nan',\n",
       " 'minor': 'Environmental Engineering',\n",
       " 'favorite_hobby_id': 'Board games',\n",
       " 'second_favorite_hobby_id': 'Frisbee golf',\n",
       " 'fav_artist_id': 'Coldplay'}"
      ]
     },
     "execution_count": 49,
     "metadata": {},
     "output_type": "execute_result"
    }
   ],
   "source": [
    "#Create our collection for me \n",
    "nest_matthew = {}\n",
    "for i in range(len(matthew)):\n",
    "    nest_matthew[matthew.index[i]] = str(matthew[i])\n",
    "nest_matthew"
   ]
  },
  {
   "cell_type": "code",
   "execution_count": 50,
   "metadata": {},
   "outputs": [],
   "source": [
    "nest_matthew['major'] = matthew_major_1_dic\n",
    "nest_matthew['hometown_id'] = matthew_hometown_dic\n",
    "nest_matthew['favorite_hobby_id'] = matthew_interest_dic\n",
    "nest_matthew['second_favorite_hobby_id'] = matthew_interest_2_dic\n",
    "nest_matthew['fav_artist_id'] = matthew_artist_dic"
   ]
  },
  {
   "cell_type": "code",
   "execution_count": 51,
   "metadata": {},
   "outputs": [
    {
     "data": {
      "text/plain": [
       "{'id': '1',\n",
       " 'first_name': 'Matt',\n",
       " 'last_name': 'Nicklas',\n",
       " 'graduation_year': '2018',\n",
       " 'age': '25',\n",
       " 'number_of_family_members': '3',\n",
       " 'fav_color': 'blue',\n",
       " 'fav_animal': 'shark',\n",
       " 'fav_tv_show': 'Dexter',\n",
       " 'fav_movie': 'Dark Knight',\n",
       " 'beach_or_mtns': 'beach',\n",
       " 'fav_icecream': 'cookie dough',\n",
       " 'hometown_id': {'id': '2',\n",
       "  'town': 'Springfield',\n",
       "  'county': 'Fairfax',\n",
       "  'state': 'Virginia',\n",
       "  'country': 'USA',\n",
       "  'population': '32222',\n",
       "  'zipcode': '22153',\n",
       "  'area_code': '703'},\n",
       " 'major': {'id': '1',\n",
       "  'major': 'Mechanical Engineering',\n",
       "  'number_of_classes': '40',\n",
       "  'school': 'Engineering',\n",
       "  'credits': '115',\n",
       "  'avg_start_salary': '60,000',\n",
       "  'application_based': 'False',\n",
       "  'graduation_honors_gpa': '3.4'},\n",
       " 'second_major': 'nan',\n",
       " 'minor': 'Environmental Engineering',\n",
       " 'favorite_hobby_id': {'id': '3',\n",
       "  'hobbies': 'Board games ',\n",
       "  'location': 'Home',\n",
       "  'most_famous_person': 'Monopoly Man',\n",
       "  'skill_level_required': '3',\n",
       "  'risk_factor': '2',\n",
       "  'category': 'Leisure'},\n",
       " 'second_favorite_hobby_id': {'id': '2',\n",
       "  'hobbies': 'Frisbee golf',\n",
       "  'location': 'Forest',\n",
       "  'most_famous_person': 'Paul McBeth',\n",
       "  'skill_level_required': '6',\n",
       "  'risk_factor': '4',\n",
       "  'category': 'Sport'},\n",
       " 'fav_artist_id': {'id': '31',\n",
       "  'name': 'Coldplay',\n",
       "  'monthly_listens': '45445380',\n",
       "  'hometown_id': 'London',\n",
       "  'age': '44',\n",
       "  'net_worth': '475,000,000',\n",
       "  'most_popular_song': 'Something Just Like This',\n",
       "  'interest_id': 'Frisbee golf'}}"
      ]
     },
     "execution_count": 51,
     "metadata": {},
     "output_type": "execute_result"
    }
   ],
   "source": [
    "nest_matthew"
   ]
  },
  {
   "cell_type": "code",
   "execution_count": 52,
   "metadata": {},
   "outputs": [
    {
     "data": {
      "text/plain": [
       "<pymongo.results.InsertOneResult at 0x1ddcc548e80>"
      ]
     },
     "execution_count": 52,
     "metadata": {},
     "output_type": "execute_result"
    }
   ],
   "source": [
    "collection.insert_one(nest_matthew)"
   ]
  }
 ],
 "metadata": {
  "kernelspec": {
   "display_name": "Python 3",
   "language": "python",
   "name": "python3"
  },
  "language_info": {
   "codemirror_mode": {
    "name": "ipython",
    "version": 3
   },
   "file_extension": ".py",
   "mimetype": "text/x-python",
   "name": "python",
   "nbconvert_exporter": "python",
   "pygments_lexer": "ipython3",
   "version": "3.8.3"
  }
 },
 "nbformat": 4,
 "nbformat_minor": 4
}
