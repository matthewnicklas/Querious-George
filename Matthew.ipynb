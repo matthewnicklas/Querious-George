{
 "cells": [
  {
   "cell_type": "code",
   "execution_count": 1,
   "metadata": {},
   "outputs": [
    {
     "name": "stdout",
     "output_type": "stream",
     "text": [
      "Collecting pymongo\n",
      "  Downloading pymongo-3.11.4-cp38-cp38-win_amd64.whl (383 kB)\n",
      "Installing collected packages: pymongo\n",
      "Successfully installed pymongo-3.11.4\n"
     ]
    }
   ],
   "source": [
    "!pip install pymongo\n",
    "import pandas as pd\n",
    "import pymongo\n",
    "from pymongo import MongoClient"
   ]
  },
  {
   "cell_type": "code",
   "execution_count": 13,
   "metadata": {},
   "outputs": [],
   "source": [
    "client = MongoClient('localhost', 27017)"
   ]
  },
  {
   "cell_type": "code",
   "execution_count": 14,
   "metadata": {},
   "outputs": [],
   "source": [
    "db = client.Matthew #Create a database called \"Matthew\""
   ]
  },
  {
   "cell_type": "code",
   "execution_count": 17,
   "metadata": {},
   "outputs": [
    {
     "data": {
      "text/plain": [
       "Database(MongoClient(host=['localhost:27017'], document_class=dict, tz_aware=False, connect=True), 'Matthew')"
      ]
     },
     "execution_count": 17,
     "metadata": {},
     "output_type": "execute_result"
    }
   ],
   "source": [
    "#Create the \"people\" collection\n",
    "collection = db.people\n",
    "db"
   ]
  },
  {
   "cell_type": "code",
   "execution_count": 16,
   "metadata": {},
   "outputs": [
    {
     "name": "stdout",
     "output_type": "stream",
     "text": [
      "hi\n"
     ]
    }
   ],
   "source": [
    "print(\"hi\")"
   ]
  },
  {
   "cell_type": "code",
   "execution_count": 10,
   "metadata": {},
   "outputs": [],
   "source": [
    "#Read in all the csv files from my local repo\n",
    "people = pd.read_csv(r'C:\\Users\\mnick\\OneDrive\\Desktop\\Forge 2021 Summer\\Querious-George\\Project 2 Data\\people.csv')\n",
    "majors = pd.read_csv(r'C:\\Users\\mnick\\OneDrive\\Desktop\\Forge 2021 Summer\\Querious-George\\Project 2 Data\\majors.csv')\n",
    "interests = pd.read_csv(r'C:\\Users\\mnick\\OneDrive\\Desktop\\Forge 2021 Summer\\Querious-George\\Project 2 Data\\interests.csv')\n",
    "towns = pd.read_csv(r'C:\\Users\\mnick\\OneDrive\\Desktop\\Forge 2021 Summer\\Querious-George\\Project 2 Data\\towns.csv')\n",
    "artists = pd.read_csv(r'C:\\Users\\mnick\\OneDrive\\Desktop\\Forge 2021 Summer\\Querious-George\\Project 2 Data\\artists.csv')\n",
    "music = pd.read_csv(r'C:\\Users\\mnick\\OneDrive\\Desktop\\Forge 2021 Summer\\Querious-George\\Project 2 Data\\music.csv')"
   ]
  },
  {
   "cell_type": "code",
   "execution_count": 11,
   "metadata": {},
   "outputs": [],
   "source": [
    "matthew = people.iloc[0]"
   ]
  },
  {
   "cell_type": "code",
   "execution_count": 12,
   "metadata": {},
   "outputs": [
    {
     "data": {
      "text/plain": [
       "id                                                  1\n",
       "first_name                                       Matt\n",
       "last_name                                     Nicklas\n",
       "graduation_year                                  2018\n",
       "age                                                25\n",
       "number_of_family_members                            3\n",
       "fav_color                                        blue\n",
       "fav_animal                                      shark\n",
       "fav_tv_show                                    Dexter\n",
       "fav_movie                                 Dark Knight\n",
       "beach_or_mtns                                   beach\n",
       "fav_icecream                             cookie dough\n",
       "hometown_id                               Springfield\n",
       "major                          Mechanical Engineering\n",
       "second_major                                      NaN\n",
       "minor                       Environmental Engineering\n",
       "favorite_hobby_id                         Board games\n",
       "second_favorite_hobby_id                 Frisbee golf\n",
       "fav_artist_id                                Coldplay\n",
       "Name: 0, dtype: object"
      ]
     },
     "execution_count": 12,
     "metadata": {},
     "output_type": "execute_result"
    }
   ],
   "source": [
    "matthew"
   ]
  },
  {
   "cell_type": "code",
   "execution_count": null,
   "metadata": {},
   "outputs": [],
   "source": []
  }
 ],
 "metadata": {
  "kernelspec": {
   "display_name": "Python 3",
   "language": "python",
   "name": "python3"
  },
  "language_info": {
   "codemirror_mode": {
    "name": "ipython",
    "version": 3
   },
   "file_extension": ".py",
   "mimetype": "text/x-python",
   "name": "python",
   "nbconvert_exporter": "python",
   "pygments_lexer": "ipython3",
   "version": "3.8.3"
  }
 },
 "nbformat": 4,
 "nbformat_minor": 4
}
